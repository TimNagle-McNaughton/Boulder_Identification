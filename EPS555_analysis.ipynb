{
 "cells": [
  {
   "cell_type": "markdown",
   "metadata": {},
   "source": [
    "## Python imports"
   ]
  },
  {
   "cell_type": "code",
   "execution_count": 2,
   "metadata": {},
   "outputs": [],
   "source": [
    "# imports\n",
    "import matplotlib\n",
    "import matplotlib.pyplot as plt\n",
    "import pandas as pd\n",
    "import numpy as np\n",
    "import scipy\n",
    "from scipy import stats\n",
    "import seaborn as sns\n",
    "%matplotlib inline"
   ]
  },
  {
   "cell_type": "markdown",
   "metadata": {},
   "source": [
    "## Data imports"
   ]
  },
  {
   "cell_type": "code",
   "execution_count": 3,
   "metadata": {},
   "outputs": [],
   "source": [
    "# open the 80 files\n",
    "dark80_1 = pd.read_csv(r\"C:/Mars/Boulders/analysis_files/Jez_dark_80_1.csv\")\n",
    "dark80_2 = pd.read_csv(r\"C:/Mars/Boulders/analysis_files/Jez_dark_80_2.csv\")\n",
    "dark80_3 = pd.read_csv(r\"C:/Mars/Boulders/analysis_files/Jez_dark_80_3.csv\")\n",
    "dark80_4 = pd.read_csv(r\"C:/Mars/Boulders/analysis_files/Jez_dark_80_4.csv\")\n",
    "dark80_5 = pd.read_csv(r\"C:/Mars/Boulders/analysis_files/Jez_dark_80_5.csv\")\n",
    "dark80_6 = pd.read_csv(r\"C:/Mars/Boulders/analysis_files/Jez_dark_80_6.csv\")\n",
    "dark80_7 = pd.read_csv(r\"C:/Mars/Boulders/analysis_files/Jez_dark_80_7.csv\")\n",
    "dark80_8 = pd.read_csv(r\"C:/Mars/Boulders/analysis_files/Jez_dark_80_8.csv\")\n",
    "dark80_9 = pd.read_csv(r\"C:/Mars/Boulders/analysis_files/Jez_dark_80_9.csv\")\n",
    "medium80_1 = pd.read_csv(r\"C:/Mars/Boulders/analysis_files/Jez_medium_80_1.csv\")\n",
    "medium80_2 = pd.read_csv(r\"C:/Mars/Boulders/analysis_files/Jez_medium_80_2.csv\")\n",
    "medium80_3 = pd.read_csv(r\"C:/Mars/Boulders/analysis_files/Jez_medium_80_3.csv\")\n",
    "medium80_4 = pd.read_csv(r\"C:/Mars/Boulders/analysis_files/Jez_medium_80_4.csv\")\n",
    "medium80_5 = pd.read_csv(r\"C:/Mars/Boulders/analysis_files/Jez_medium_80_5.csv\")\n",
    "medium80_6 = pd.read_csv(r\"C:/Mars/Boulders/analysis_files/Jez_medium_80_6.csv\")\n",
    "medium80_7 = pd.read_csv(r\"C:/Mars/Boulders/analysis_files/Jez_medium_80_7.csv\")\n",
    "medium80_8 = pd.read_csv(r\"C:/Mars/Boulders/analysis_files/Jez_medium_80_8.csv\")\n",
    "medium80_9 = pd.read_csv(r\"C:/Mars/Boulders/analysis_files/Jez_medium_80_9.csv\")\n",
    "light80_1 = pd.read_csv(r\"C:/Mars/Boulders/analysis_files/Jez_light_80_1.csv\")\n",
    "light80_2 = pd.read_csv(r\"C:/Mars/Boulders/analysis_files/Jez_light_80_2.csv\")\n",
    "light80_3 = pd.read_csv(r\"C:/Mars/Boulders/analysis_files/Jez_light_80_3.csv\")\n",
    "light80_4 = pd.read_csv(r\"C:/Mars/Boulders/analysis_files/Jez_light_80_4.csv\")\n",
    "light80_5 = pd.read_csv(r\"C:/Mars/Boulders/analysis_files/Jez_light_80_5.csv\")\n",
    "light80_6 = pd.read_csv(r\"C:/Mars/Boulders/analysis_files/Jez_light_80_6.csv\")\n",
    "light80_7 = pd.read_csv(r\"C:/Mars/Boulders/analysis_files/Jez_light_80_7.csv\")\n",
    "light80_8 = pd.read_csv(r\"C:/Mars/Boulders/analysis_files/Jez_light_80_8.csv\")\n",
    "light80_9 = pd.read_csv(r\"C:/Mars/Boulders/analysis_files/Jez_light_80_9.csv\")"
   ]
  },
  {
   "cell_type": "code",
   "execution_count": 4,
   "metadata": {},
   "outputs": [],
   "source": [
    "# open the 160 files\n",
    "dark160_1 = pd.read_csv(r\"C:/Mars/Boulders/analysis_files/Jez_dark_160_1.csv\")\n",
    "dark160_2 = pd.read_csv(r\"C:/Mars/Boulders/analysis_files/Jez_dark_160_2.csv\")\n",
    "dark160_3 = pd.read_csv(r\"C:/Mars/Boulders/analysis_files/Jez_dark_160_3.csv\")\n",
    "dark160_4 = pd.read_csv(r\"C:/Mars/Boulders/analysis_files/Jez_dark_160_4.csv\")\n",
    "dark160_5 = pd.read_csv(r\"C:/Mars/Boulders/analysis_files/Jez_dark_160_5.csv\")\n",
    "dark160_6 = pd.read_csv(r\"C:/Mars/Boulders/analysis_files/Jez_dark_160_6.csv\")\n",
    "dark160_7 = pd.read_csv(r\"C:/Mars/Boulders/analysis_files/Jez_dark_160_7.csv\")\n",
    "dark160_8 = pd.read_csv(r\"C:/Mars/Boulders/analysis_files/Jez_dark_160_8.csv\")\n",
    "dark160_9 = pd.read_csv(r\"C:/Mars/Boulders/analysis_files/Jez_dark_160_9.csv\")\n",
    "medium160_1 = pd.read_csv(r\"C:/Mars/Boulders/analysis_files/Jez_medium_160_1.csv\")\n",
    "medium160_2 = pd.read_csv(r\"C:/Mars/Boulders/analysis_files/Jez_medium_160_2.csv\")\n",
    "medium160_3 = pd.read_csv(r\"C:/Mars/Boulders/analysis_files/Jez_medium_160_3.csv\")\n",
    "medium160_4 = pd.read_csv(r\"C:/Mars/Boulders/analysis_files/Jez_medium_160_4.csv\")\n",
    "medium160_5 = pd.read_csv(r\"C:/Mars/Boulders/analysis_files/Jez_medium_160_5.csv\")\n",
    "medium160_6 = pd.read_csv(r\"C:/Mars/Boulders/analysis_files/Jez_medium_160_6.csv\")\n",
    "medium160_7 = pd.read_csv(r\"C:/Mars/Boulders/analysis_files/Jez_medium_160_7.csv\")\n",
    "medium160_8 = pd.read_csv(r\"C:/Mars/Boulders/analysis_files/Jez_medium_160_8.csv\")\n",
    "medium160_9 = pd.read_csv(r\"C:/Mars/Boulders/analysis_files/Jez_medium_160_9.csv\")\n",
    "light160_1 = pd.read_csv(r\"C:/Mars/Boulders/analysis_files/Jez_light_160_1.csv\")\n",
    "light160_2 = pd.read_csv(r\"C:/Mars/Boulders/analysis_files/Jez_light_160_2.csv\")\n",
    "light160_3 = pd.read_csv(r\"C:/Mars/Boulders/analysis_files/Jez_light_160_3.csv\")\n",
    "light160_4 = pd.read_csv(r\"C:/Mars/Boulders/analysis_files/Jez_light_160_4.csv\")\n",
    "light160_5 = pd.read_csv(r\"C:/Mars/Boulders/analysis_files/Jez_light_160_5.csv\")\n",
    "light160_6 = pd.read_csv(r\"C:/Mars/Boulders/analysis_files/Jez_light_160_6.csv\")\n",
    "light160_7 = pd.read_csv(r\"C:/Mars/Boulders/analysis_files/Jez_light_160_7.csv\")\n",
    "light160_8 = pd.read_csv(r\"C:/Mars/Boulders/analysis_files/Jez_light_160_8.csv\")\n",
    "light160_9 = pd.read_csv(r\"C:/Mars/Boulders/analysis_files/Jez_light_160_9.csv\")"
   ]
  },
  {
   "cell_type": "markdown",
   "metadata": {},
   "source": [
    "## Add ratio, volumn columns"
   ]
  },
  {
   "cell_type": "code",
   "execution_count": 5,
   "metadata": {},
   "outputs": [],
   "source": [
    "df_list = [dark80_1, dark80_2,  dark80_3, \n",
    "            dark80_4, dark80_5, dark80_6, \n",
    "            dark80_7, dark80_8, dark80_9, \n",
    "             medium80_1, medium80_2, medium80_3, \n",
    "             medium80_4, medium80_5, medium80_6, \n",
    "             medium80_7, medium80_8, medium80_9,\n",
    "             light80_1, light80_2, light80_3,\n",
    "             light80_4, light80_5, light80_6, \n",
    "             light80_7, light80_8, light80_9,\n",
    "            dark160_1, dark160_2, dark160_3,\n",
    "            dark160_4, dark160_5, dark160_6,\n",
    "            dark160_7, dark160_8, dark160_9,\n",
    "            medium160_1, medium160_2, medium160_3, \n",
    "            medium160_4, medium160_5, medium160_6, \n",
    "            medium160_7, medium160_8, medium160_9,\n",
    "            light160_1, light160_2, light160_3, \n",
    "            light160_4, light160_5, light160_6, \n",
    "            light160_7, light160_8, light160_9]\n",
    "for df in df_list:\n",
    "    df[\"MBG_ratio\"] = df[\"MBG_Length\"] / df[\"MBG_Width\"]\n",
    "    df[\"Volume\"] = df[\"MBG_Width\"]**2 * df[\"MBG_Length\"]"
   ]
  },
  {
   "cell_type": "markdown",
   "metadata": {},
   "source": [
    "## Start concatenating"
   ]
  },
  {
   "cell_type": "code",
   "execution_count": 6,
   "metadata": {},
   "outputs": [],
   "source": [
    "# lists of sections and brightness\n",
    "dark_frames80 = [dark80_1, dark80_2,  dark80_3, \n",
    "                dark80_4, dark80_5, dark80_6, \n",
    "                dark80_7, dark80_8, dark80_9]\n",
    "    \n",
    "medium_frames80 = [medium80_1, medium80_2, medium80_3, \n",
    "                  medium80_4, medium80_5, medium80_6, \n",
    "                  medium80_7, medium80_8, medium80_9]\n",
    "\n",
    "light_frames80 = [light80_1, light80_2, light80_3, \n",
    "                 light80_4, light80_5, light80_6, \n",
    "                 light80_7, light80_8, light80_9]\n",
    "\n",
    "dark_frames160 = [dark160_1, dark160_2, dark160_3,\n",
    "            dark160_4, dark160_5, dark160_6,\n",
    "            dark160_7, dark160_8, dark160_9]\n",
    "\n",
    "\n",
    "medium_frames160 = [medium160_1, medium160_2, medium160_3, \n",
    "                  medium160_4, medium160_5, medium160_6, \n",
    "                  medium160_7, medium160_8, medium160_9]\n",
    "\n",
    "\n",
    "light_frames160 = [light160_1, light160_2, light160_3, \n",
    "                 light160_4, light160_5, light160_6, \n",
    "                 light160_7, light160_8, light160_9]\n",
    "\n",
    "\n",
    "all_frames80 = [dark80_1, dark80_2,  dark80_3, \n",
    "                dark80_4, dark80_5, dark80_6, \n",
    "                dark80_7, dark80_8, dark80_9,\n",
    "                medium80_1, medium80_2, medium80_3, \n",
    "                medium80_4, medium80_5, medium80_6, \n",
    "                medium80_7, medium80_8, medium80_9,\n",
    "                light80_1, light80_2, light80_3, \n",
    "                light80_4, light80_5, light80_6, \n",
    "                light80_7, light80_8, light80_9]\n",
    "\n",
    "\n",
    "all_frames160 = [dark160_1, dark160_2, dark160_3,\n",
    "                dark160_4, dark160_5, dark160_6,\n",
    "                dark160_7, dark160_8, dark160_9,\n",
    "                medium160_1, medium160_2, medium160_3, \n",
    "                medium160_4, medium160_5, medium160_6, \n",
    "                medium160_7, medium160_8, medium160_9,\n",
    "                light160_1, light160_2, light160_3, \n",
    "                light160_4, light160_5, light160_6, \n",
    "                light160_7, light160_8, light160_9]"
   ]
  },
  {
   "cell_type": "markdown",
   "metadata": {},
   "source": [
    "## Merge sections together"
   ]
  },
  {
   "cell_type": "code",
   "execution_count": 7,
   "metadata": {},
   "outputs": [],
   "source": [
    "# merge frames\n",
    "dark80 = pd.concat(dark_frames80)\n",
    "med80 = pd.concat(medium_frames80)\n",
    "light80 = pd.concat(light_frames80)\n",
    "all80 = pd.concat(all_frames80)\n",
    "\n",
    "dark160 = pd.concat(dark_frames160)\n",
    "med160 = pd.concat(medium_frames160)\n",
    "light160 = pd.concat(light_frames160)\n",
    "all160 = pd.concat(all_frames160)"
   ]
  },
  {
   "cell_type": "markdown",
   "metadata": {},
   "source": [
    "## Select only boulders\n",
    "- Must have an area of at least 1 pixel in the orignal image\n",
    "- Must have elevation data\n",
    "- Must be < 200m from scarp\n",
    "- Must be < 10m length or width\n",
    "- Length:Width ratio < 5"
   ]
  },
  {
   "cell_type": "code",
   "execution_count": 8,
   "metadata": {},
   "outputs": [],
   "source": [
    "# select only boulders\n",
    "dark80b = dark80[(dark80[\"NEAR_DIST\"] < 200) \n",
    "                 & (dark80[\"MBG_Width\"] < 10) \n",
    "                 & (dark80[\"MBG_Length\"] < 10)\n",
    "                 & (dark80[\"Elev_m\"] > -9000)\n",
    "                 & (dark80[\"MBG_ratio\"] < 5)]\n",
    "med80b = med80[(med80[\"NEAR_DIST\"] < 200)\n",
    "               & (med80[\"MBG_Width\"] < 10) \n",
    "               & (med80[\"MBG_Length\"] < 10)\n",
    "               & (med80[\"Elev_m\"] > -9000)\n",
    "               & (med80[\"MBG_ratio\"] < 5)]\n",
    "light80b = light80[(light80[\"NEAR_DIST\"] < 200) \n",
    "                   & (light80[\"MBG_Width\"] < 10) \n",
    "                   & (light80[\"MBG_Length\"] < 10)\n",
    "                   & (light80[\"Elev_m\"] > -9000)\n",
    "                   & (light80[\"MBG_ratio\"] < 5)]\n",
    "\n",
    "dark160b = dark160[(dark160[\"NEAR_DIST\"] < 200) \n",
    "                   & (dark160[\"MBG_Width\"] < 10) \n",
    "                   & (dark160[\"MBG_Length\"] < 10)\n",
    "                   & (dark160[\"Elev_m\"] > -9000)\n",
    "                   & (dark160[\"MBG_ratio\"] < 5)]\n",
    "med160b = med160[(med160[\"NEAR_DIST\"] < 200) \n",
    "                 & (med160[\"MBG_Width\"] < 10) \n",
    "                 & (med160[\"MBG_Length\"] < 10)\n",
    "                 & (med160[\"Elev_m\"] > -9000)\n",
    "                 & (med160[\"MBG_ratio\"] < 5)]\n",
    "light160b = light160[(light160[\"NEAR_DIST\"] < 200) \n",
    "                     & (light160[\"MBG_Width\"] < 10) \n",
    "                     & (light160[\"MBG_Length\"] < 10)\n",
    "                     & (light160[\"Elev_m\"] > -9000)\n",
    "                     & (light160[\"MBG_ratio\"] < 5)]\n",
    "\n",
    "all80b = all80[(all80[\"NEAR_DIST\"] < 200) \n",
    "                     & (all80[\"MBG_Width\"] < 10) \n",
    "                     & (all80[\"MBG_Length\"] < 10)\n",
    "                     & (all80[\"Elev_m\"] > -9000)\n",
    "                     & (all80[\"MBG_ratio\"] < 5)]\n",
    "all160b = all160[(all160[\"NEAR_DIST\"] < 200) \n",
    "                     & (all160[\"MBG_Width\"] < 10) \n",
    "                     & (all160[\"MBG_Length\"] < 10)\n",
    "                     & (all160[\"Elev_m\"] > -9000)\n",
    "                     & (all160[\"MBG_ratio\"] < 5)]"
   ]
  },
  {
   "cell_type": "markdown",
   "metadata": {},
   "source": [
    "## Get some basic info"
   ]
  },
  {
   "cell_type": "code",
   "execution_count": 9,
   "metadata": {},
   "outputs": [
    {
     "name": "stdout",
     "output_type": "stream",
     "text": [
      "48590\n",
      "25688\n",
      "212386\n",
      "86541\n",
      "182150\n",
      "41353\n",
      "564163\n",
      "250227\n",
      "2190585\n",
      "716990\n",
      "1112991\n",
      "246297\n",
      "443126\n",
      "153582\n",
      "3867739\n",
      "1213514\n"
     ]
    }
   ],
   "source": [
    "# get basic info\n",
    "df_list = [dark160, dark160b, \n",
    "           med160, med160b, \n",
    "           light160, light160b, \n",
    "           dark80, dark80b, \n",
    "           med80, med80b, \n",
    "           light80, light80b,\n",
    "           all160, all160b,\n",
    "          all80, all80b]\n",
    "\n",
    "for df in df_list:\n",
    "    num_rows = len(df.index)\n",
    "    print str(num_rows)"
   ]
  },
  {
   "cell_type": "markdown",
   "metadata": {},
   "source": [
    "## Summary for abstract"
   ]
  },
  {
   "cell_type": "code",
   "execution_count": 10,
   "metadata": {},
   "outputs": [
    {
     "name": "stdout",
     "output_type": "stream",
     "text": [
      "160 threshold\n",
      "all: n = 443126\n",
      "boulders: n = 153582\n",
      "Percent boulders: 34%\n",
      "average boulder size = 0.42sqm\n",
      "median boulder size = 0.27sqm\n",
      "total boulder area = 65121.04sqm\n",
      "average boulder distance = 54.58m\n",
      "median boulder distance = 38.22m\n",
      "\n",
      "80 threshold\n",
      "all: n = 3867739\n",
      "boulders: n = 1213514\n",
      "Percent boulders:31%\n",
      "average boulder size = 0.75sqm\n",
      "median boulder size = 0.38sqm\n",
      "total boulder area = 915156.52sqm\n",
      "average boulder distance = 61.97m\n",
      "median boulder distance = 46.51m\n",
      "\n"
     ]
    }
   ],
   "source": [
    "df160_n = all160.shape[0]\n",
    "df80_n = all80.shape[0]\n",
    "df160b_n = all160b.shape[0]\n",
    "df80b_n = all80b.shape[0]\n",
    "\n",
    "print \"160 threshold\"\n",
    "print \"all: n = \" + str(df160_n)\n",
    "print \"boulders: n = \" + str(df160b_n)\n",
    "print \"Percent boulders: \" + str(100*df160b_n/df160_n) + \"%\"\n",
    "print \"average boulder size = \" + str(round(all160b[\"Area_orig\"].mean(),2)) + \"sqm\"\n",
    "print \"median boulder size = \" + str(round(all160b[\"Area_orig\"].median(),2)) + \"sqm\"\n",
    "print \"total boulder area = \" + str(round(all160b[\"Area_orig\"].sum(),2)) + \"sqm\"\n",
    "print \"average boulder distance = \" + str(round(all160b[\"NEAR_DIST\"].mean(),2)) + \"m\"\n",
    "print \"median boulder distance = \" + str(round(all160b[\"NEAR_DIST\"].median(),2)) + \"m\"\n",
    "print \"\"\n",
    "print \"80 threshold\"\n",
    "print \"all: n = \" + str(df80_n)\n",
    "print \"boulders: n = \" + str(df80b_n) \n",
    "print \"Percent boulders:\" + str(100*df80b_n/df80_n) + \"%\"\n",
    "print \"average boulder size = \" + str(round(all80b[\"Area_orig\"].mean(),2)) + \"sqm\"\n",
    "print \"median boulder size = \" + str(round(all80b[\"Area_orig\"].median(),2)) + \"sqm\"\n",
    "print \"total boulder area = \" + str(round(all80b[\"Area_orig\"].sum(),2)) + \"sqm\"\n",
    "print \"average boulder distance = \" + str(round(all80b[\"NEAR_DIST\"].mean(),2)) + \"m\"\n",
    "print \"median boulder distance = \" + str(round(all80b[\"NEAR_DIST\"].median(),2)) + \"m\"\n",
    "print \"\""
   ]
  },
  {
   "cell_type": "markdown",
   "metadata": {},
   "source": [
    "## Plot boulder area"
   ]
  },
  {
   "cell_type": "code",
   "execution_count": 11,
   "metadata": {},
   "outputs": [
    {
     "data": {
      "image/png": "[encoded data removed]",
      "text/plain": [
       "<Figure size 720x360 with 2 Axes>"
      ]
     },
     "metadata": {
      "needs_background": "light"
     },
     "output_type": "display_data"
    }
   ],
   "source": [
    "# set up figure\n",
    "fig, ax = plt.subplots(nrows=1, ncols=2, figsize=(10, 5), constrained_layout=True)\n",
    "\n",
    "# plot histograms of 80 area\n",
    "ax[1].hist(all80b[\"Area_MBG\"], bins=100, stacked=True, color = 'r');\n",
    "\n",
    "# plot histograms of 160 area\n",
    "ax[0].hist(all160b[\"Area_MBG\"], bins=100, stacked=True, color = 'k');\n",
    "\n",
    "# set titles\n",
    "ax[1].set_title(\"Liberal parameters\");\n",
    "ax[0].set_title(\"Conservative parameters \");\n",
    "ax[0].set_xlabel(\"Boulder area (sq m)\")\n",
    "ax[0].set_ylabel(\"Log(Count)\")\n",
    "ax[1].set_xlabel(\"Boulder area (sq m)\")\n",
    "ax[1].set_ylabel(\"Log(Count)\")\n",
    "\n",
    "# set log Y axis\n",
    "ax[0].set_yscale('log')\n",
    "ax[1].set_yscale('log')\n",
    "\n",
    "plt.savefig(\"C:\\Mars\\Boulders\\Figures\\Area_histogram.jpg\", dpi=600)"
   ]
  },
  {
   "cell_type": "markdown",
   "metadata": {},
   "source": [
    "## Plot width/length for the boulders"
   ]
  },
  {
   "cell_type": "code",
   "execution_count": null,
   "metadata": {},
   "outputs": [
    {
     "name": "stdout",
     "output_type": "stream",
     "text": [
      "160 L = 1.31W + 0.36\n",
      "r= 0.79\n",
      "p= 0.0\n",
      "80 L = 1.52W + 0.26\n",
      "r= 0.89\n",
      "p= 0.0\n"
     ]
    }
   ],
   "source": [
    "# set up figure\n",
    "fig, ax = plt.subplots(nrows=1, ncols=2, figsize=(10, 5), constrained_layout=True)\n",
    "\n",
    "# plot just the boulders\n",
    "ax[1].scatter(all80b[\"MBG_Width\"], all80b[\"MBG_Length\"], s=1, c='r', label=None);\n",
    "ax[0].scatter(all160b[\"MBG_Width\"], all160b[\"MBG_Length\"], s=1, c='k', label=None);\n",
    "\n",
    "# plot x=y line\n",
    "x160 = [all160b[\"MBG_Width\"].min(), all160b[\"MBG_Width\"].max()]\n",
    "y160 = [all160b[\"MBG_Length\"].min(), all160b[\"MBG_Length\"].max()]\n",
    "ax[0].plot(x160, y160, c='b', label = \"L = W\")\n",
    "x80 = [all80b[\"MBG_Width\"].min(), all80b[\"MBG_Width\"].max()]\n",
    "y80 = [all80b[\"MBG_Length\"].min(), all80b[\"MBG_Length\"].max()]\n",
    "ax[1].plot(x80, y80, c='b', label = \"L = W\")\n",
    "\n",
    "# set titles\n",
    "ax[0].set_title(\"Conservative parameters\");\n",
    "ax[1].set_title(\"Liberal parameters\");\n",
    "\n",
    "# set axis labels\n",
    "ax[0].set_xlabel(\"Boulder width (m)\");\n",
    "ax[0].set_ylabel(\"Boulder length (m)\");\n",
    "ax[1].set_xlabel(\"Boulder width (m)\");\n",
    "ax[1].set_ylabel(\"Boulder length (m)\");\n",
    "\n",
    "# get the best fits and print results\n",
    "slope160, intercept160, r_value160, p_value160, std_err160 = scipy.stats.linregress(all160b[\"MBG_Width\"], all160b[\"MBG_Length\"])\n",
    "slope80, intercept80, r_value80, p_value80, std_err80 = scipy.stats.linregress(all80b[\"MBG_Width\"], all80b[\"MBG_Length\"])\n",
    "\n",
    "print \"160 L = \" + str(round(slope160,2)) + \"W + \" + str(round(intercept160,2))\n",
    "print \"r= \" + str(round(r_value160,2))\n",
    "print \"p= \" + str(p_value160)\n",
    "print \"80 L = \" + str(round(slope80,2)) + \"W + \" + str(round(intercept80,2))\n",
    "print \"r= \" + str(round(r_value80,2))\n",
    "print \"p= \" + str(p_value80)\n",
    "\n",
    "# plot the best fit line\n",
    "x160 = [all160b[\"MBG_Width\"].min()/slope80-intercept80, all160b[\"MBG_Width\"].max()/slope80-intercept80]\n",
    "y160 = [all160b[\"MBG_Width\"].min(),all160b[\"MBG_Length\"].max()]\n",
    "ax[0].plot(x160, y160, c='g', label = \"Best fit:\\nL = 1.31W + 0.36\")\n",
    "\n",
    "x80 = [all80b[\"MBG_Width\"].min()/slope80-intercept80, all80b[\"MBG_Width\"].max()/slope80-intercept80]\n",
    "y80 = [all80b[\"MBG_Length\"].min(), all80b[\"MBG_Length\"].max()]\n",
    "ax[1].plot(x80, y80, c='g', label = \"Best fit:\\nL = 1.52W + 0.26\")\n",
    "\n",
    "# set legend\n",
    "ax[0].legend(frameon=False);\n",
    "ax[1].legend(frameon=False);\n",
    "\n",
    "plt.savefig(\"C:\\Mars\\Boulders\\Figures\\Length_Width.jpg\", dpi=600)"
   ]
  },
  {
   "cell_type": "markdown",
   "metadata": {},
   "source": [
    "## Histograms of distance"
   ]
  },
  {
   "cell_type": "code",
   "execution_count": null,
   "metadata": {},
   "outputs": [],
   "source": [
    "# set up figure\n",
    "fig, ax = plt.subplots(nrows=1, ncols=2, figsize=(8, 4), constrained_layout=True)\n",
    "\n",
    "# plot histograms of 80 distance\n",
    "ax[0].hist(all160b[\"NEAR_DIST\"], bins=100, stacked=True, color = 'k');\n",
    "\n",
    "# plot histograms of 160 distance\n",
    "ax[1].hist(all80b[\"NEAR_DIST\"], bins=100, stacked=True, color = 'r');\n",
    "\n",
    "# set up labels\n",
    "ax[0].set_title(\"Conservative parameters\")\n",
    "ax[0].set_xlabel(\"Distance from scarp (m)\")\n",
    "ax[0].set_ylabel(\"Count\")\n",
    "ax[0].set_yscale(\"log\")\n",
    "\n",
    "ax[1].set_title(\"Liberal parameters\")\n",
    "ax[1].set_xlabel(\"Distance from scarp (m)\")\n",
    "ax[1].set_ylabel(\"Count\")\n",
    "ax[1].set_yscale(\"log\")\n",
    "\n",
    "plt.savefig(\"C:\\Mars\\Boulders\\Figures\\Distance_histogram.jpg\", dpi=600)"
   ]
  },
  {
   "cell_type": "code",
   "execution_count": null,
   "metadata": {
    "scrolled": false
   },
   "outputs": [],
   "source": [
    "fig, ax = plt.subplots(nrows=1, ncols=2, figsize=(15, 10), constrained_layout=True)\n",
    "\n",
    "ax[1].scatter(all80b[\"NEAR_DIST\"], all80b[\"Elev_m\"], s=0.1, alpha=0.1, c='r');\n",
    "ax[0].scatter(all160b[\"NEAR_DIST\"], all160b[\"Elev_m\"], s=0.1, alpha=0.1, c='k');\n",
    "\n",
    "ax[0].set_title(\"Conservative Parameters\")\n",
    "ax[0].set_xlabel(\"Boulder distance from scarp (m)\");\n",
    "ax[0].set_ylabel(\"Boulder elevation (m)\");\n",
    "\n",
    "ax[1].get_yaxis().set_visible(False)\n",
    "ax[1].set_title(\"Liberal Parameters\")\n",
    "ax[1].set_xlabel(\"Boulder distance from scarp (m)\");\n",
    "ax[1].set_ylabel(\"Boulder elevation (m)\");\n",
    "\n",
    "plt.savefig(\"C:\\Mars\\Boulders\\Figures\\Elevation_Distance.png\", dpi=600)"
   ]
  },
  {
   "cell_type": "markdown",
   "metadata": {},
   "source": [
    "## Find the histogram peak"
   ]
  },
  {
   "cell_type": "code",
   "execution_count": null,
   "metadata": {},
   "outputs": [],
   "source": [
    "from scipy.stats import norm\n",
    "import matplotlib.mlab as mlab\n",
    "\n",
    "data = all80b[\"Elev_m\"]\n",
    "(mu, sigma) = norm.fit(data)\n",
    "n, bins, patches = plt.hist(data, 100, density=1, facecolor='green', alpha=0.75)\n",
    "bin_max = np.where(n == n.max())\n",
    "print 'maxbin', bins[bin_max][0]\n",
    "# add a 'best fit' line\n",
    "y = mlab.normpdf(bins, mu, sigma)\n",
    "l = plt.plot(bins, y, 'r--', linewidth=2)"
   ]
  },
  {
   "cell_type": "code",
   "execution_count": null,
   "metadata": {},
   "outputs": [],
   "source": [
    "from scipy.stats import norm\n",
    "import matplotlib.mlab as mlab\n",
    "\n",
    "data = all160b[\"Elev_m\"]\n",
    "(mu, sigma) = norm.fit(data)\n",
    "n, bins, patches = plt.hist(data, 100, density=1, facecolor='green', alpha=0.75)\n",
    "bin_max = np.where(n == n.max())\n",
    "print 'maxbin', bins[bin_max][0]\n",
    "# add a 'best fit' line\n",
    "y = mlab.normpdf(bins, mu, sigma)\n",
    "l = plt.plot(bins, y, 'r--', linewidth=2)"
   ]
  },
  {
   "cell_type": "code",
   "execution_count": null,
   "metadata": {},
   "outputs": [],
   "source": [
    "# set up figure\n",
    "fig, ax = plt.subplots(nrows=1, ncols=2, figsize=(10, 5), sharey=True, constrained_layout=True)\n",
    "\n",
    "# plot\n",
    "sns.distplot(all160b[\"Elev_m\"], bins=100, color='k', vertical=True, ax=ax[0])\n",
    "sns.distplot(all80b[\"Elev_m\"], bins=100, color='r', vertical=True, ax=ax[1])\n",
    "\n",
    "# set titles\n",
    "ax[0].set_title(\"Conservative Parameters\")\n",
    "ax[1].set_title(\"Liberal Parameters\")\n",
    "\n",
    "# set axes\n",
    "ax[0].set_xlabel(\"Relative frequency\");\n",
    "ax[0].get_xaxis().set_ticks([])\n",
    "ax[0].set_ylabel(\"Boulder elevation (m)\");\n",
    "\n",
    "ax[1].get_yaxis().set_visible(False)\n",
    "ax[1].get_xaxis().set_ticks([])\n",
    "ax[1].set_xlabel(\"Relative frequency\");\n",
    "ax[1].set_ylabel(\"Boulder elevation (m)\");\n",
    "\n",
    "plt.savefig(\"C:\\Mars\\Boulders\\Figures\\Elevation_histogram.jpg\", dpi=600)"
   ]
  },
  {
   "cell_type": "markdown",
   "metadata": {},
   "source": [
    "## Distance/Elevation vs. Area"
   ]
  },
  {
   "cell_type": "code",
   "execution_count": null,
   "metadata": {},
   "outputs": [],
   "source": [
    "# set up figure\n",
    "fig, ax = plt.subplots(nrows=1, ncols=2, sharey=True, figsize=(10, 5), constrained_layout=True)\n",
    "\n",
    "# plot the scatterplots\n",
    "ax[0].scatter(all160b[\"NEAR_DIST\"], all160b[\"Area_MBG\"], s=0.1, alpha = 0.5, c='k');\n",
    "ax[1].scatter(all80b[\"NEAR_DIST\"], all80b[\"Area_MBG\"], s=0.1, alpha = 0.5, c='r');\n",
    "\n",
    "# set up labels\n",
    "ax[0].set_title(\"Conservative parameters\");\n",
    "ax[1].set_title(\"Liberal parameters\");\n",
    "\n",
    "ax[0].set_ylabel(\"Boulder area (sqm)\");\n",
    "ax[0].set_xlabel(\"Boulder distance from scarp (m)\");\n",
    "ax[1].set_xlabel(\"Boulder distance from scarp (m)\");\n",
    "\n",
    "# get the best fits and print results\n",
    "slope160, intercept160, r_value160, p_value160, std_err160 = scipy.stats.linregress(all160b[\"NEAR_DIST\"], all160b[\"Area_MBG\"])\n",
    "slope80, intercept80, r_value80, p_value80, std_err80 = scipy.stats.linregress(all80b[\"NEAR_DIST\"], all80b[\"Area_MBG\"])\n",
    "\n",
    "print \"160 L = \" + str(round(slope160,2)) + \"W + \" + str(round(intercept160,2))\n",
    "print \"r= \" + str(round(r_value160,2))\n",
    "print \"p= \" + str(p_value160)\n",
    "print \"80 L = \" + str(round(slope80,2)) + \"W + \" + str(round(intercept80,2))\n",
    "print \"r= \" + str(round(r_value80,2))\n",
    "print \"p= \" + str(p_value80)\n",
    "\n",
    "plt.savefig(\"C:\\Mars\\Boulders\\Figures\\Distance_Area.jpg\", dpi=600)"
   ]
  },
  {
   "cell_type": "code",
   "execution_count": null,
   "metadata": {},
   "outputs": [],
   "source": [
    "# set up figure\n",
    "fig, ax = plt.subplots(nrows=1, ncols=2, sharey=False, figsize=(10, 5), constrained_layout=True)\n",
    "\n",
    "# plot the scatterplots\n",
    "ax[0].scatter(all160b[\"Elev_m\"], all160b[\"Area_MBG\"], s=0.1, c='k', label=\"Boulders\");\n",
    "ax[1].scatter(all80b[\"Elev_m\"], all80b[\"Area_MBG\"], s=0.1, c='r');\n",
    "\n",
    "# set up labels\n",
    "ax[0].set_title(\"Conservative parameters\");\n",
    "ax[1].set_title(\"Liberal parameters\");\n",
    "\n",
    "ax[0].set_ylabel(\"Boulder area (sqm)\");\n",
    "ax[0].set_xlabel(\"Boulder elevation (m)\");\n",
    "ax[1].set_xlabel(\"Boulder elevation (m)\");\n",
    "\n",
    "\n",
    "slope80, intercept80, r_value80, p_value80, std_err80 = scipy.stats.linregress(all80b[\"MBG_Width\"], all80b[\"MBG_Length\"])\n",
    "\n",
    "# # plot the best fit line\n",
    "# x160 = [all160b[\"MBG_Width\"].min()/slope80-intercept80, all160b[\"MBG_Width\"].max()/slope80-intercept80]\n",
    "# y160 = [all160b[\"MBG_Width\"].min(),all160b[\"MBG_Length\"].max()]\n",
    "# ax[0].plot(x160, y160, c='g', label = \"Best fit\")\n",
    "\n",
    "# x80 = [all80b[\"MBG_Width\"].min()/slope80-intercept80, all80b[\"MBG_Width\"].max()/slope80-intercept80]\n",
    "# y80 = [all80b[\"MBG_Length\"].min(), all80b[\"MBG_Length\"].max()]\n",
    "# ax[1].plot(x80, y80, c='g', label = \"Best fit\")\n",
    "\n",
    "plt.savefig(\"C:\\Mars\\Boulders\\Figures\\Elevation_Area.jpg\", dpi=600)"
   ]
  },
  {
   "cell_type": "markdown",
   "metadata": {},
   "source": [
    "## Original vs. MBG Area"
   ]
  },
  {
   "cell_type": "code",
   "execution_count": null,
   "metadata": {
    "scrolled": false
   },
   "outputs": [],
   "source": [
    "# set up figure\n",
    "fig, ax = plt.subplots(nrows=1, ncols=2, figsize=(12, 6), constrained_layout=True)\n",
    "\n",
    "# plot the scatterplots\n",
    "ax[0].scatter(all160b[\"Area_orig\"], all160b[\"Area_MBG\"], s=1, c='k', label=None)\n",
    "ax[1].scatter(all80b[\"Area_orig\"], all80b[\"Area_MBG\"], s=1, c='r', label=None)\n",
    "\n",
    "# set up labels\n",
    "ax[0].set_title(\"Conservative parameters\")\n",
    "ax[1].set_title(\"Liberal parameters\")\n",
    "ax[0].set_xlabel(\"Original boulder area (sqm)\")\n",
    "ax[0].set_ylabel(\"Minimum bounding geometry boulder area (sqm)\")\n",
    "ax[1].set_xlabel(\"Original boulder area (sqm)\")\n",
    "ax[1].set_ylabel(\"Minimum bounding geometry boulder area (sqm)\")\n",
    "\n",
    "# get ranges\n",
    "max160 = range(int(all160b[\"Area_MBG\"].max()))\n",
    "max80 = range(int(all80b[\"Area_MBG\"].max()))\n",
    "\n",
    "# plot x=y line\n",
    "x160,y160 = max160, max160\n",
    "ax[0].plot(x160,y160, c='b', label=\"MBG = Original\")\n",
    "x80,y80 = max80, max80\n",
    "ax[1].plot(x80,y80, c='b', label=\"MBG = Original\")\n",
    "\n",
    "# get the best fits and print results\n",
    "par160 = np.polyfit(all160b[\"Area_orig\"], all160b[\"Area_MBG\"], 1, full=True)\n",
    "slope160 = par160[0][0]\n",
    "intercept160 = par160[0][1]\n",
    "\n",
    "par80 = np.polyfit(all80b[\"Area_orig\"], all80b[\"Area_MBG\"], 1, full=True)\n",
    "slope80 = par80[0][0]\n",
    "intercept80 = par80[0][1]\n",
    "\n",
    "print \"160 best fit = \" + str(round(slope160,2)) + \"x \" + str(round(intercept160,2))\n",
    "print \"80 best fit = \" + str(round(slope80,2)) + \"x \" + str(round(intercept80,2))\n",
    "\n",
    "# set legend\n",
    "ax[0].legend(frameon=False);\n",
    "ax[1].legend(frameon=False);\n",
    "\n",
    "plt.savefig(\"C:\\Mars\\Boulders\\Figures\\AreaOrig_AreaMBG.jpg\", dpi=600)"
   ]
  },
  {
   "cell_type": "markdown",
   "metadata": {},
   "source": [
    "## Copy the figures from Golombek"
   ]
  },
  {
   "cell_type": "code",
   "execution_count": null,
   "metadata": {
    "scrolled": false
   },
   "outputs": [],
   "source": [
    "# set up the figure\n",
    "fig, ax = plt.subplots(nrows=1, ncols=2, figsize=(10, 5), constrained_layout=True)\n",
    "\n",
    "# split into 0.1 bins\n",
    "bin_split = np.arange(0,10,0.1)\n",
    "label_split = bin_split[:-1]\n",
    "\n",
    "# sum the values after splitting into bins\n",
    "all160b_area_sum = all160b.groupby(pd.cut(all160b.MBG_Width, bin_split, labels=label_split), as_index=False).sum()\n",
    "all80b_area_sum = all80b.groupby(pd.cut(all80b.MBG_Width, bin_split, labels=label_split), as_index=False).sum()\n",
    "\n",
    "# set the axis to the bins \n",
    "all80b_area_sum.set_axis(label_split, inplace=True)\n",
    "all160b_area_sum.set_axis(label_split, inplace=True)\n",
    "\n",
    "# set scales\n",
    "ax[0].set_xscale('log')\n",
    "ax[0].set_yscale('log')\n",
    "ax[1].set_xscale('log')\n",
    "ax[1].set_yscale('log')\n",
    "\n",
    "# set axis labels\n",
    "ax[0].set_xlabel('Boulder width (m)')\n",
    "ax[0].set_ylabel('Approximate cumulative fractional area')\n",
    "ax[1].set_xlabel('Boulder width (m)')\n",
    "ax[1].set_ylabel('Count of boulders')\n",
    "\n",
    "# # golombek lines\n",
    "# xvals = np.linspace(all160b[\"MBG_Width\"].min(), all160b[\"MBG_Width\"].max())\n",
    "# yval1 = []\n",
    "# yval2 = []\n",
    "# for val in xvals:\n",
    "#     yval1.append(1e-5*np.exp(-2*val))\n",
    "#     yval2.append(1e-6*np.exp(-2*val))\n",
    "\n",
    "# plot\n",
    "ax[0].plot(all160b_area_sum[\"Area_MBG\"]/64e9, c='k',  label=\"Conservative parameters\");\n",
    "ax[0].plot(all80b_area_sum[\"Area_MBG\"]/64e9, c='r', label=\"Liberal parameters\");\n",
    "ax[1].hist(all160b[\"MBG_Width\"], bins=200, color='black', ls=\"-\", histtype=\"step\", label=\"Conservative parameters\");\n",
    "ax[1].hist(all80b[\"MBG_Width\"], bins=200, color='red', ls=\"-\", histtype=\"step\", label=\"Liberal parameters\");\n",
    "# ax[1].hist(all160b[\"MBG_Length\"], bins=100, color='black', ls=\":\", histtype=\"step\", label=\"Conservative parameters\");\n",
    "# ax[1].hist(all80b[\"MBG_Length\"], bins=100, color='red', ls=\":\", histtype=\"step\", label=\"Liberal parameters\");\n",
    "\n",
    "ax[1].legend(frameon=False);\n",
    "\n",
    "plt.savefig(\"C:\\Mars\\Boulders\\Figures\\Golombek_plots.jpg\", dpi=600)"
   ]
  },
  {
   "cell_type": "markdown",
   "metadata": {},
   "source": [
    "weird dip at 0.5-0.6"
   ]
  },
  {
   "cell_type": "markdown",
   "metadata": {},
   "source": [
    "## Volumes for Josh"
   ]
  },
  {
   "cell_type": "code",
   "execution_count": null,
   "metadata": {},
   "outputs": [],
   "source": [
    "print str(round(all160b[\"Volume\"].sum(),0)) + \" cubic m\"\n",
    "print str(round(all80b[\"Volume\"].sum(),0)) + \" cubic m\""
   ]
  },
  {
   "cell_type": "markdown",
   "metadata": {},
   "source": [
    "## Export the boulder files back to Arc"
   ]
  },
  {
   "cell_type": "code",
   "execution_count": null,
   "metadata": {},
   "outputs": [],
   "source": [
    "# all160b.to_csv(r\"C:/Mars/Boulders/analysis_files/all_160b.csv\")\n",
    "# all80b.to_csv(r\"C:/Mars/Boulders/analysis_files/all_80b.csv\")\n",
    "# all160.to_csv(r\"C:/Mars/Boulders/analysis_files/all_160.csv\")\n",
    "# all80.to_csv(r\"C:/Mars/Boulders/analysis_files/all_80.csv\")"
   ]
  }
 ],
 "metadata": {
  "kernelspec": {
   "display_name": "Python 3",
   "language": "python",
   "name": "python3"
  },
  "language_info": {
   "codemirror_mode": {
    "name": "ipython",
    "version": 3
   },
   "file_extension": ".py",
   "mimetype": "text/x-python",
   "name": "python",
   "nbconvert_exporter": "python",
   "pygments_lexer": "ipython3",
   "version": "3.6.8"
  }
 },
 "nbformat": 4,
 "nbformat_minor": 2
}
