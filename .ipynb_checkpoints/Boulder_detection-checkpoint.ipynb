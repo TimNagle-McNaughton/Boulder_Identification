{
 "cells": [
  {
   "cell_type": "markdown",
   "metadata": {},
   "source": [
    "## Boulder detection methodology\n",
    "\n",
    "- Author: Tim Nagle-McNaughton\n",
    "\n",
    "- Contact: timnaglemcnaughton@unm.edu\n",
    "\n",
    "- Requires Python 3+, 64-bit recommended\n",
    "\n",
    "- This code is overly verbose (hopefully) for clarity"
   ]
  },
  {
   "cell_type": "markdown",
   "metadata": {},
   "source": [
    "## 1. Data production"
   ]
  },
  {
   "cell_type": "markdown",
   "metadata": {},
   "source": [
    "### 1.1 User input\n",
    "\n",
    "### These values should be edited by the user:"
   ]
  },
  {
   "cell_type": "code",
   "execution_count": null,
   "metadata": {},
   "outputs": [],
   "source": [
    "# any default workspace. Can be a folder or a geodatabase\n",
    "workspace = \n",
    "# the raster you want to process\n",
    "rast_to_process =     \n",
    "# where your data will be saved\n",
    "output_folder =        \n",
    "# the minimum pixel iteration value (inclusive)\n",
    "rast_min = \n",
    "# the maximum pixel threshold value (not inclusive)\n",
    "rast_max = \n",
    "# the inverval between threshold values (e.g. min = 0, max = 100, step = 10 -> 10 files: 0, 10, 20, etc.)\n",
    "rast_step = \n",
    "# the maximum value for the 'dark' brightness interval \n",
    "dark_interval_max = \n",
    "# the maxmimum value for the 'medium interval'\n",
    "medium_interval_max = "
   ]
  },
  {
   "cell_type": "markdown",
   "metadata": {},
   "source": [
    "### 1.2 Import python modules and make subfolders for output"
   ]
  },
  {
   "cell_type": "code",
   "execution_count": null,
   "metadata": {},
   "outputs": [],
   "source": [
    "### settings and setup ###\n",
    "# imports\n",
    "import arcpy\n",
    "import os\n",
    "import shutil\n",
    "from arcpy.sa import *\n",
    "from arcpy import env\n",
    "import glob\n",
    "\n",
    "# ArcGIS setup\n",
    "arcpy.env.workspace = workspace\n",
    "arcpy.env.overwriteOutput = True\n",
    "\n",
    "# make a directory for the junk files\n",
    "if not os.path.exists(os.path.join(output_folder, \"junk\\\\\")):\n",
    "    os.makedirs(os.path.join(output_folder, \"junk\\\\\"))  \n",
    "# set junk output strings\n",
    "junk_path = os.path.join(output_folder, \"junk\\\\\")\n",
    "\n",
    "# make a directory for the selected threshold files\n",
    "if not os.path.exists(os.path.join(output_folder, \"threshold\\\\\")):\n",
    "    os.makedirs(os.path.join(output_folder, \"threshold\\\\\"))\n",
    "# set the threshold strings\n",
    "thresh_path = os.path.join(output_folder, \"threshold\\\\\")\n",
    "\n",
    "# make a directory for the final files\n",
    "if not os.path.exists(os.path.join(output_folder, \"final\\\\\")):\n",
    "    os.makedirs(os.path.join(output_folder, \"final\\\\\"))\n",
    "# set the final strings\n",
    "final_path = os.path.join(output_folder, \"final/\")\n",
    "\n",
    "print(\"Setup complete... \\n\")"
   ]
  },
  {
   "cell_type": "markdown",
   "metadata": {},
   "source": [
    "### 1.3 Apply the average filter with a 20-pixel radius\n",
    "\n",
    "- Files are saved to ~ / junk / \\*\\_20\\_rad\\_average.tif"
   ]
  },
  {
   "cell_type": "code",
   "execution_count": null,
   "metadata": {},
   "outputs": [],
   "source": [
    "# apply mean filter\n",
    "neighborhood = NbrCircle(20)\n",
    "avg20_rast = arcpy.sa.FocalStatistics(rast_to_process, neighborhood, \"MEAN\",  \"\")\n",
    "\n",
    "# save the output to the junk folder\n",
    "avg20_out = junk_name +  \"_20_rad_average.tif\"\n",
    "avg20_rast.save(avg20_out)\n",
    "\n",
    "print(\"20 pixel average complete...\\n\")"
   ]
  },
  {
   "cell_type": "markdown",
   "metadata": {},
   "source": [
    "### 1.4 Make a mask to split the raster into the three (dark, medium, light) brightness intervals\n",
    "\n",
    "- Files are saved to ~ / junk / \\*\\_mask.tif"
   ]
  },
  {
   "cell_type": "code",
   "execution_count": null,
   "metadata": {},
   "outputs": [],
   "source": [
    "# generate the masks\n",
    "dark_mask = arcpy.Raster(avg20_out) < (dark_interval_max + 1)\n",
    "medium_mask = (arcpy.Raster(avg20_out) > dark_interval_max) & (arcpy.Raster(avg20_out) < (medium_interval_max + 1))\n",
    "light_mask = arcpy.Raster(avg20_out) > medium_interval_max\n",
    "\n",
    "#save the output to the intermediate folder\n",
    "dark_mask_out = junk_name + \"_dark_mask.tif\"\n",
    "medium_mask_out = junk_name + \"_medium_mask.tif\"\n",
    "light_mask_out = junk_name + \"_light_mask.tif\"\n",
    "\n",
    "dark_mask.save(dark_mask_out)\n",
    "medium_mask.save(medium_mask_out)\n",
    "light_mask.save(light_mask_out)\n",
    "\n",
    "print(\"Dark, medium, and light masks generated...\\n\")"
   ]
  },
  {
   "cell_type": "markdown",
   "metadata": {},
   "source": [
    "### 1.5 Split the raster into three brightness intervals\n",
    "\n",
    "- Files are saved to ~ / junk / \\*\\_zero.tif"
   ]
  },
  {
   "cell_type": "code",
   "execution_count": null,
   "metadata": {},
   "outputs": [],
   "source": [
    "# generate the brightness rasters\n",
    "dark = arcpy.Raster(dark_mask_out) * arcpy.Raster(rast_to_process)\n",
    "medium = arcpy.Raster(medium_mask_out) * arcpy.Raster(rast_to_process)\n",
    "light = arcpy.Raster(light_mask_out) * arcpy.Raster(rast_to_process)\n",
    "\n",
    "# save the output to the intermediate folder\n",
    "dark_out = junk_name + \"_dark_zero.tif\"\n",
    "medium_out = junk_name + \"_medium_zero.tif\"\n",
    "light_out = junk_name + \"_light_zero.tif\"\n",
    "dark.save(dark_out)\n",
    "medium.save(medium_out)\n",
    "light.save(light_out)\n",
    "\n",
    "print(\"Dark, medium, and light rasters generated...\\n\")"
   ]
  },
  {
   "cell_type": "markdown",
   "metadata": {},
   "source": [
    "### 1.6 Set 0 values to 'Null'\n",
    "\n",
    "- Files are saved to ~ / junk / \\*\\_null.tif"
   ]
  },
  {
   "cell_type": "code",
   "execution_count": null,
   "metadata": {},
   "outputs": [],
   "source": [
    "# generate the null values in the rasters\n",
    "dark_mask_null = SetNull(dark_out, dark_out, \"VALUE < 1\")\n",
    "medium_mask_null = SetNull(medium_out, medium_out, \"VALUE < 1\")\n",
    "light_mask_null = SetNull(light_out, light_out, \"VALUE < 1\")\n",
    "\n",
    "# save the output\n",
    "dark_mask_null_out = junk_path + \"null_dark.tif\"\n",
    "medium_mask_null_out = junk_path + \"null_medium.tif\"\n",
    "light_mask_null_out = junk_path + \"null_light.tif\"\n",
    "dark_mask_null.save(dark_mask_null_out)\n",
    "medium_mask_null.save(medium_mask_null_out)\n",
    "light_mask_null.save(light_mask_null_out)\n",
    "\n",
    "print(\"Final dark, medium, and light rasters generated...\\n\")"
   ]
  },
  {
   "cell_type": "markdown",
   "metadata": {},
   "source": [
    "### 1.7 Apply the 2x2 range filter, generate threshold values\n",
    "\n",
    "- Range files are saved to ~ / junk / \\*\\_2x2\\_range.tif\n",
    " \n",
    "- Threshold files are saved to  ~ / threshold / <threshold\\_value>.tif"
   ]
  },
  {
   "cell_type": "code",
   "execution_count": null,
   "metadata": {},
   "outputs": [],
   "source": [
    "# apply a 2x2 range filter\n",
    "interval_list = [dark_mask_null_out, medium_mask_null_out, light_mask_null_out]\n",
    "for interval in interval_list:\n",
    "    neighborhood = NbrRectangle(2)\n",
    "    rast_range = arcpy.sa.FocalStatistics(interval, neighborhood, \"RANGE\",  \"\")\n",
    "    \n",
    "    # make a better basename\n",
    "    basename = arcpy.Describe(interval).basename[5:]\n",
    "    \n",
    "    # save the output #\n",
    "    range_out = junk_path + basename + \"_2x2_range.tif\"\n",
    "    rast_range.save(range_out)\n",
    "\n",
    "    ### peform raster calculation ###\n",
    "    # iteratively select 'boulder' pixels above the threshold set above\n",
    "    for value in range(rast_min, rast_max, rast_step):\n",
    "        calc_above = arcpy.Raster(range_out) > value\n",
    "        \n",
    "        # save the output\n",
    "        calc_out = thresh_path + basename + \"_\"+ str(value) + \".tif\"\n",
    "        calc_above.save(calc_out)\n",
    "\n",
    "print(\"Threshold pixel values for generated...\\n\")\n",
    "\n",
    "arcpy.CheckInExtension(\"Spatial\");"
   ]
  },
  {
   "cell_type": "markdown",
   "metadata": {},
   "source": [
    "## 2. Data conversion\n",
    "**At this point, the user should examine the interval rasters (stored in ~/threshold/) in ArcGIS to determine two values:**\n",
    "\n",
    "1. **Conservative:** The pixel threshold at which there are no false-positive boulder pixels (no dune crests have boulder pixels). This value will be larger than the second value.\n",
    "2. **Liberal:** The pixel threshold at which there are no false-negative boulder pixels (every boulder has a pixel). This value will be smaller than the first.\n",
    "\n",
    "Additionally, the user must select the type of minimum bounding geometry they want to use:\n",
    "- RECTANGLE_BY_AREA — The rectangle of the smallest area enclosing an input feature.\n",
    "- RECTANGLE_BY_WIDTH — The rectangle of the smallest width enclosing an input feature.\n",
    "- CONVEX_HULL — The smallest convex polygon enclosing an input feature.\n",
    "- CIRCLE — The smallest circle enclosing an input feature.\n",
    "- ENVELOPE — The envelope of an input feature."
   ]
  },
  {
   "cell_type": "markdown",
   "metadata": {},
   "source": [
    "### 2.1 User input\n",
    "\n",
    "### These values should be edited by the user:"
   ]
  },
  {
   "cell_type": "code",
   "execution_count": null,
   "metadata": {},
   "outputs": [],
   "source": [
    "# get variables \n",
    "dark_upper_value = # Conservative\n",
    "dark_lower_value = # Liberal\n",
    "\n",
    "medium_upper_value = # Conservative\n",
    "medium_lower_value = # Liberal\n",
    "\n",
    "light_upper_value = # Conservative\n",
    "light_lower_value = # Liberal\n",
    "\n",
    "# select the type of minimum bounding geometry\n",
    "# RECTANGLE_BY_AREA, RECTANGLE_BY_WIDTH, CONVEX_HULL, CIRCLE, ENVELOPE\n",
    "user_selected_MBG = "
   ]
  },
  {
   "cell_type": "markdown",
   "metadata": {},
   "source": [
    "### 2.2 Convert the rasters to simplified polygons\n",
    " \n",
    "- Files are saved to ~ / junk / \\*\\_s.tif"
   ]
  },
  {
   "cell_type": "code",
   "execution_count": null,
   "metadata": {},
   "outputs": [],
   "source": [
    "# generate list of the dark rasters\n",
    "arcpy.env.workspace = thresh_path\n",
    "dark_raster_list = arcpy.ListRasters(\"*dark*\" + str(dark_upper_value) + \"*\")\n",
    "dark_raster_list.extend(arcpy.ListRasters(\"*dark*\" + str(dark_lower_value) + \"*\"))\n",
    "\n",
    "# convert to polygons\n",
    "for dark in dark_raster_list:\n",
    "    # make a better name\n",
    "    raster_name = junk_path + arcpy.Describe(dark).baseName + \"_s.shp\"\n",
    "    # convert\n",
    "    arcpy.conversion.RasterToPolygon(dark, raster_name, \"SIMPLIFY\")\n",
    "    print(arcpy.Describe(raster_name).basename + \" has been processed...\")\n",
    "    \n",
    "# generate list of the medium rasters\n",
    "arcpy.env.workspace = thresh_path\n",
    "medium_raster_list = arcpy.ListRasters(\"*medium*\" + str(medium_upper_value) + \"*\")\n",
    "medium_raster_list.extend(arcpy.ListRasters(\"*medium*\" + str(medium_lower_value) + \"*\"))\n",
    "\n",
    "# convert to polygons\n",
    "for med in medium_raster_list:\n",
    "    # make a better name\n",
    "    raster_name = junk_path + arcpy.Describe(med).baseName + \"_s.shp\"\n",
    "    # convert\n",
    "    arcpy.conversion.RasterToPolygon(med, raster_name, \"SIMPLIFY\")\n",
    "    print(arcpy.Describe(raster_name).basename + \" has been processed...\")\n",
    "    \n",
    "# generate list of the light rasters\n",
    "arcpy.env.workspace = thresh_path\n",
    "light_raster_list = arcpy.ListRasters(\"*light*\" + str(light_upper_value) + \"*\")\n",
    "light_raster_list.extend(arcpy.ListRasters(\"*light*\" + str(light_lower_value) + \"*\"))\n",
    "\n",
    "# convert to polygons\n",
    "for light in light_raster_list:\n",
    "    # make a better name\n",
    "    raster_name = junk_path + arcpy.Describe(light).baseName + \"_s.shp\"\n",
    "    # convert\n",
    "    arcpy.conversion.RasterToPolygon(light, raster_name, \"SIMPLIFY\")\n",
    "    print(arcpy.Describe(raster_name).basename + \" has been processed...\")"
   ]
  },
  {
   "cell_type": "markdown",
   "metadata": {},
   "source": [
    "### 2.3 Select only the polygons that represent boulders (i.e. not the spaces inbetween)\n",
    " \n",
    "- Files are saved to ~ / junk / \\*\\_1.tif"
   ]
  },
  {
   "cell_type": "code",
   "execution_count": null,
   "metadata": {},
   "outputs": [],
   "source": [
    "# generate list of polygons\n",
    "arcpy.env.workspace = junk_path\n",
    "process_list = arcpy.ListFeatureClasses(\"*_s.shp\")\n",
    "\n",
    "# select only 1 values\n",
    "for feature in process_list:\n",
    "    # make a better name\n",
    "    feature_name = junk_path + arcpy.Describe(feature).basename + \"_1.shp\"\n",
    "    # SQL query\n",
    "    SQL = '\"gridcode\" = 1'\n",
    "    # select only 1 values\n",
    "    arcpy.analysis.Select(feature, feature_name, SQL)\n",
    "\n",
    "print(\"Selection of boulder values completed...\")"
   ]
  },
  {
   "cell_type": "markdown",
   "metadata": {},
   "source": [
    "### 2.4 Generate the minimum bounding geometry\n",
    "\n",
    "- Files are saved to ~ / final / \\*\\_bd.tif"
   ]
  },
  {
   "cell_type": "code",
   "execution_count": null,
   "metadata": {},
   "outputs": [],
   "source": [
    "#generate another list of polygons\n",
    "arcpy.env.workspace = junk_path\n",
    "one_list = arcpy.ListFeatureClasses(\"*_1.shp\")\n",
    "\n",
    "# generate minimum bounding geometry\n",
    "for polygon in one_list:\n",
    "    # make a better name\n",
    "    poly_name = final_path + arcpy.Describe(polygon).baseName[:-4] + \"_bd.shp\"\n",
    "    # add an area field\n",
    "    arcpy.management.AddField(polygon, \"Area_orig\", \"FLOAT\")\n",
    "    # calculate area\n",
    "    arcpy.management.CalculateField(polygon, \"Area_orig\", \"!shape.area@squaremeters!\", \"PYTHON_9.3\")\n",
    "    # generate bounding geometry\n",
    "    arcpy.management.MinimumBoundingGeometry(polygon, poly_name, str(user_selected_MBG), \"\", \"\", \"MBG_FIELDS\")\n",
    "\n",
    "print(\"Bounding geometry completed...\")"
   ]
  },
  {
   "cell_type": "markdown",
   "metadata": {},
   "source": [
    "### 2.5 Add minimum bounding area values"
   ]
  },
  {
   "cell_type": "code",
   "execution_count": null,
   "metadata": {},
   "outputs": [],
   "source": [
    "# generate a list of MBG polygons\n",
    "arcpy.env.workspace = final_path\n",
    "bound_list = arcpy.ListFeatureClasses(\"*_bd.shp\")\n",
    "\n",
    "# caluculate the MBG area\n",
    "for bound in bound_list:\n",
    "    # add an area field\n",
    "    arcpy.management.AddField(bound, \"MBG_Area\", \"FLOAT\")\n",
    "    # calculate area\n",
    "    arcpy.management.CalculateField(bound, \"MBG_Area\", \"!shape.area@squaremeters!\", \"PYTHON_9.3\")\n",
    "\n",
    "print(\"Area added...\")"
   ]
  },
  {
   "cell_type": "markdown",
   "metadata": {},
   "source": [
    "### 2.6 Convert polygons to points (Optional)\n",
    "\n",
    "- Files are saved to ~ / final / \\*\\_pnt.tif"
   ]
  },
  {
   "cell_type": "code",
   "execution_count": null,
   "metadata": {},
   "outputs": [],
   "source": [
    "# generate a list of the final files\n",
    "arcpy.env.workspace = final_path\n",
    "feat_list = arcpy.ListFeatureClasses(\"*_bd.shp\")\n",
    "\n",
    "# convert all the features\n",
    "for feature in feat_list:\n",
    "    #make a better name \n",
    "    point_name = arcpy.Describe(feature).basename + \"_pnt.shp\"\n",
    "    arcpy.management.FeatureToPoint(feature, point_name)\n",
    "\n",
    "print(\"Points generated...\")"
   ]
  },
  {
   "cell_type": "markdown",
   "metadata": {},
   "source": [
    "### 2.7 Add the X and Y coordinates to the points (Optional)"
   ]
  },
  {
   "cell_type": "code",
   "execution_count": null,
   "metadata": {},
   "outputs": [],
   "source": [
    "### add lat long ###\n",
    "# generate a list of the final files\n",
    "arcpy.env.workspace = final_path\n",
    "file_list = arcpy.ListFeatureClasses(\"*_pnt.shp\")\n",
    "\n",
    "# add XY points\n",
    "for points in file_list:\n",
    "    arcpy.management.AddXY(points)\n",
    "\n",
    "print(\"Coordinates added...\")"
   ]
  },
  {
   "cell_type": "markdown",
   "metadata": {},
   "source": [
    "### 2.8 Convert all the files to spreadsheets (Optional)\n",
    "\n",
    "- Files are saved to ~ / final /"
   ]
  },
  {
   "cell_type": "code",
   "execution_count": null,
   "metadata": {},
   "outputs": [],
   "source": [
    "# generate a list of the final files\n",
    "arcpy.env.workspace = final_path\n",
    "file_list = arcpy.ListFeatureClasses()\n",
    "\n",
    "# convert the tables to CSVs\n",
    "for final_file in file_list:\n",
    "    # set output \n",
    "    table_out = arcpy.Describe(final_file).baseName + \".csv\"\n",
    "    #make a table view\n",
    "    table_view = arcpy.Describe(final_file).baseName + \"_table\"\n",
    "    arcpy.management.MakeTableView(final_file, table_view)\n",
    "    # export the table\n",
    "    arcpy.conversion.TableToTable(table_view, final_path, table_out)\n",
    "    \n",
    "print(\"Final tables generated...\")"
   ]
  }
 ],
 "metadata": {
  "kernelspec": {
   "display_name": "Python 3",
   "language": "python",
   "name": "python3"
  },
  "language_info": {
   "codemirror_mode": {
    "name": "ipython",
    "version": 3
   },
   "file_extension": ".py",
   "mimetype": "text/x-python",
   "name": "python",
   "nbconvert_exporter": "python",
   "pygments_lexer": "ipython3",
   "version": "3.6.8"
  }
 },
 "nbformat": 4,
 "nbformat_minor": 2
}
