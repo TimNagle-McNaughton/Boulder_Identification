{
 "cells": [
  {
   "cell_type": "markdown",
   "metadata": {},
   "source": [
    "# Part I - Data production"
   ]
  },
  {
   "cell_type": "code",
   "execution_count": 1,
   "metadata": {},
   "outputs": [],
   "source": [
    "### user input ###\n",
    "# get variables\n",
    "# any default workspace. Can be a folder or a geodatabase\n",
    "workspace = r\"C:/Mars/Boulders_zach\"\n",
    "# the raster you want to process\n",
    "rast_to_process = r\"C:/Mars/Boulders_zach/Cropped.tif\"      \n",
    "# where your data will be saved\n",
    "output_folder = r\"C:/Mars/Boulders_zach\"            \n",
    "# the base name for all the output\n",
    "output_name = \"UppDrain\"\n",
    "# the minimum pixel iteration value (inclusive)\n",
    "rast_min = 50\n",
    "# the maximum pixel threshold value (not inclusive)\n",
    "rast_max = 250\n",
    "# the inverval between threshold values (e.g. min = 0, max = 100, step = 10 -> 10 files: 0, 10, 20, etc.)\n",
    "rast_step = 10                                  "
   ]
  },
  {
   "cell_type": "code",
   "execution_count": 4,
   "metadata": {},
   "outputs": [
    {
     "name": "stdout",
     "output_type": "stream",
     "text": [
      "Setup complete... \n",
      "\n"
     ]
    }
   ],
   "source": [
    "### settings and setup ###\n",
    "# imports\n",
    "import arcpy\n",
    "import os\n",
    "import shutil\n",
    "from arcpy.sa import *\n",
    "from arcpy import env\n",
    "import glob\n",
    "\n",
    "# ArcGIS setup\n",
    "arcpy.env.workspace = workspace\n",
    "arcpy.env.overwriteOutput = True\n",
    "out_path = os.path.join(output_folder, output_name)\n",
    "arcpy.CheckOutExtension(\"Spatial\")\n",
    "\n",
    "# make a directory for the junk files\n",
    "if not os.path.exists(os.path.join(output_folder, \"junk_files\\\\\")):\n",
    "    os.makedirs(os.path.join(output_folder, \"junk_files\\\\\"))\n",
    "\n",
    "# make a directory for the selected threshold files\n",
    "if not os.path.exists(os.path.join(output_folder, \"threshold\\\\\")):\n",
    "    os.makedirs(os.path.join(output_folder, \"threshold\\\\\"))\n",
    "    \n",
    "# make a directory for the final files\n",
    "if not os.path.exists(os.path.join(output_folder, \"final\\\\\")):\n",
    "    os.makedirs(os.path.join(output_folder, \"final\\\\\"))\n",
    "    \n",
    "# set junk output strings\n",
    "junk_path = os.path.join(output_folder, \"junk_files\\\\\")\n",
    "junk_name = os.path.join(junk_path, output_name)\n",
    "\n",
    "# set the threshold strings\n",
    "thresh_path = os.path.join(output_folder, \"threshold\\\\\")\n",
    "\n",
    "# set the final strings\n",
    "final_path = os.path.join(output_folder, \"final/\")\n",
    "\n",
    "print \"Setup complete... \\n\""
   ]
  },
  {
   "cell_type": "code",
   "execution_count": 5,
   "metadata": {},
   "outputs": [
    {
     "name": "stdout",
     "output_type": "stream",
     "text": [
      "20 pixel average complete...\n",
      "\n"
     ]
    }
   ],
   "source": [
    "### apply an average filter with a 20-pixel radius ###\n",
    "neighborhood = NbrCircle(20)\n",
    "avg20_rast = arcpy.sa.FocalStatistics(rast_to_process, neighborhood, \"MEAN\",  \"\")\n",
    "\n",
    "# save the output to the intermediate folder\n",
    "avg20_out = junk_name +  \"_20_rad_average.tif\"\n",
    "avg20_rast.save(avg20_out)\n",
    "\n",
    "print \"20 pixel average complete...\\n\""
   ]
  },
  {
   "cell_type": "code",
   "execution_count": 6,
   "metadata": {},
   "outputs": [
    {
     "name": "stdout",
     "output_type": "stream",
     "text": [
      "Dark, medium, and light masks generated...\n",
      "\n"
     ]
    }
   ],
   "source": [
    "### split the average raster into dark, medium, and light ###\n",
    "# generate the masks\n",
    "dark_mask = arcpy.Raster(avg20_out) < 300\n",
    "medium_mask = (arcpy.Raster(avg20_out) > 299) & (arcpy.Raster(avg20_out) < 500)\n",
    "light_mask = arcpy.Raster(avg20_out) > 499\n",
    "\n",
    "#save the output to the intermediate folder\n",
    "dark_mask_out = junk_name + \"_dark_mask.tif\"\n",
    "medium_mask_out = junk_name + \"_medium_mask.tif\"\n",
    "light_mask_out = junk_name + \"_light_mask.tif\"\n",
    "\n",
    "dark_mask.save(dark_mask_out)\n",
    "medium_mask.save(medium_mask_out)\n",
    "light_mask.save(light_mask_out)\n",
    "\n",
    "print \"Dark, medium, and light masks generated...\\n\""
   ]
  },
  {
   "cell_type": "code",
   "execution_count": 7,
   "metadata": {},
   "outputs": [
    {
     "name": "stdout",
     "output_type": "stream",
     "text": [
      "Dark, medium, and light rasters generated...\n",
      "\n"
     ]
    }
   ],
   "source": [
    "# generate the brightness rasters\n",
    "dark = arcpy.Raster(dark_mask_out) * arcpy.Raster(rast_to_process)\n",
    "medium = arcpy.Raster(medium_mask_out) * arcpy.Raster(rast_to_process)\n",
    "light = arcpy.Raster(light_mask_out) * arcpy.Raster(rast_to_process)\n",
    "\n",
    "# save the output to the intermediate folder\n",
    "dark_out = junk_name + \"_dark_zero.tif\"\n",
    "medium_out = junk_name + \"_medium_zero.tif\"\n",
    "light_out = junk_name + \"_light_zero.tif\"\n",
    "dark.save(dark_out)\n",
    "medium.save(medium_out)\n",
    "light.save(light_out)\n",
    "\n",
    "print \"Dark, medium, and light rasters generated...\\n\""
   ]
  },
  {
   "cell_type": "code",
   "execution_count": 8,
   "metadata": {},
   "outputs": [
    {
     "name": "stdout",
     "output_type": "stream",
     "text": [
      "Final dark, medium, and light rasters generated...\n",
      "\n"
     ]
    }
   ],
   "source": [
    "### generate masks to deal with null/0 values\n",
    "# generate the null values in the rasters\n",
    "dark_mask_null = SetNull(dark_out, dark_out, \"VALUE < 1\")\n",
    "medium_mask_null = SetNull(medium_out, medium_out, \"VALUE < 1\")\n",
    "light_mask_null = SetNull(light_out, light_out, \"VALUE < 1\")\n",
    "\n",
    "# save the output\n",
    "dark_mask_null_out = out_path + \"_dark_raster.tif\"\n",
    "medium_mask_null_out = out_path + \"_medium_raster.tif\"\n",
    "light_mask_null_out = out_path + \"_light_raster.tif\"\n",
    "dark_mask_null.save(dark_mask_null_out)\n",
    "medium_mask_null.save(medium_mask_null_out)\n",
    "light_mask_null.save(light_mask_null_out)\n",
    "\n",
    "print \"Final dark, medium, and light rasters generated...\\n\""
   ]
  },
  {
   "cell_type": "code",
   "execution_count": 9,
   "metadata": {},
   "outputs": [
    {
     "name": "stdout",
     "output_type": "stream",
     "text": [
      "Threshold pixel values for C:/Mars/Boulders_zach\\UppDrain_dark generated...\n",
      "\n",
      "Threshold pixel values for C:/Mars/Boulders_zach\\UppDrain_medium generated...\n",
      "\n",
      "Threshold pixel values for C:/Mars/Boulders_zach\\UppDrain_light generated...\n",
      "\n"
     ]
    },
    {
     "data": {
      "text/plain": [
       "u'CheckedIn'"
      ]
     },
     "execution_count": 9,
     "metadata": {},
     "output_type": "execute_result"
    }
   ],
   "source": [
    "### peform the 2x2 range calculation ###\n",
    "# apply a 2x2 range filter\n",
    "interval_list = [dark_mask_null_out, medium_mask_null_out, light_mask_null_out]\n",
    "for interval in interval_list:\n",
    "    neighborhood = NbrRectangle(2)\n",
    "    rast_range = arcpy.sa.FocalStatistics(interval, neighborhood, \"RANGE\",  \"\")\n",
    "    \n",
    "    # save the output\n",
    "    range_out = str(interval)[:-10] + \"_2x2_range.tif\"\n",
    "    rast_range.save(range_out)\n",
    "\n",
    "    ### peform raster calculation ###\n",
    "    # iteratively select 'boulder' pixels above the threshold set above\n",
    "    for value in range(rast_min, rast_max, rast_step):\n",
    "        calc_above = arcpy.Raster(range_out) > value\n",
    "        \n",
    "        # save the output\n",
    "        calc_out = str(interval)[:-10] + \"_\"+ str(value) + \".tif\"\n",
    "        calc_above.save(calc_out)\n",
    "    print \"Threshold pixel values for \" + str(interval)[:-10] + \" generated...\\n\"\n",
    "\n",
    "arcpy.CheckInExtension(\"Spatial\")"
   ]
  },
  {
   "cell_type": "markdown",
   "metadata": {},
   "source": [
    "# Part II - Data conversion\n",
    "\n",
    "**At this point, the user should examine the interval rasters in ArcGIS to determine two values:**\n",
    "1. The pixel threshold at which there are no false-positive boulder pixels (no dune crests have boulder pixels). This value will be larger than the second value.\n",
    "2. The pixel threshold at which there are no false-negative boulder pixels (every boulder has a pixel). This value will be smaller than the first."
   ]
  },
  {
   "cell_type": "code",
   "execution_count": 10,
   "metadata": {},
   "outputs": [],
   "source": [
    "### get user input ###\n",
    "# get variables \n",
    "dark_upper_value = 100\n",
    "dark_lower_value = 150\n",
    "medium_upper_value = 110\n",
    "medium_lower_value = 140\n",
    "light_upper_value = 140\n",
    "light_lower_value = 200"
   ]
  },
  {
   "cell_type": "code",
   "execution_count": 12,
   "metadata": {},
   "outputs": [],
   "source": [
    "### raster to polygon ###\n",
    "# generate list of dark rasters\n",
    "arcpy.env.workspace = workspace\n",
    "dark_raster_list = arcpy.ListRasters(\"*dark.tif\")\n",
    "\n",
    "# convert to polygons\n",
    "for dark in dark_raster_list:\n",
    "    # make a better name\n",
    "    desc = arcpy.Describe(dark)\n",
    "    raster_name = desc.baseName[:-1] + \"_s.shp\"\n",
    "    # convert\n",
    "    arcpy.conversion.RasterToPolygon(dark, raster_name, \"SIMPLIFY\")\n",
    "    print raster_name + \" has been processed...\"\n",
    "    \n",
    "# generate list of medium rasters\n",
    "arcpy.env.workspace = workspace\n",
    "med_raster_list = arcpy.ListRasters(\"*medium.tif\")\n",
    "\n",
    "# convert to polygons\n",
    "for med in med_raster_list:\n",
    "    # make a better name\n",
    "    desc = arcpy.Describe(med)\n",
    "    raster_name = desc.baseName[:-1] + \"_s.shp\"\n",
    "    # convert\n",
    "    arcpy.conversion.RasterToPolygon(med, raster_name, \"SIMPLIFY\")\n",
    "    print raster_name + \" has been processed...\"\n",
    "    \n",
    "# generate list of light rasters\n",
    "arcpy.env.workspace = workspace\n",
    "light_raster_list = arcpy.ListRasters(\"*light*c.tif\")\n",
    "\n",
    "# convert to polygons\n",
    "for light in light_raster_list:\n",
    "    # make a better name\n",
    "    desc = arcpy.Describe(light)\n",
    "    raster_name = desc.baseName[:-1] + \"_s.shp\"\n",
    "    # convert\n",
    "    arcpy.conversion.RasterToPolygon(light, raster_name, \"SIMPLIFY\")\n",
    "    print raster_name + \" has been processed...\""
   ]
  },
  {
   "cell_type": "code",
   "execution_count": 5,
   "metadata": {},
   "outputs": [
    {
     "name": "stdout",
     "output_type": "stream",
     "text": [
      "Selection of boulder values completed...\n",
      "Files saved as *_1.shp\n"
     ]
    }
   ],
   "source": [
    "### select only the polygons that represent boulders ###\n",
    "# generate list of polygons\n",
    "arcpy.env.workspace = workspace\n",
    "process_list = arcpy.ListFeatureClasses(\"*_s.shp\")\n",
    "\n",
    "# select only 1 values\n",
    "for feature in process_list:\n",
    "    # make a better name\n",
    "    desc = arcpy.Describe(feature)\n",
    "    feature_name = desc.baseName + \"_1.shp\"\n",
    "    # SQL query\n",
    "    SQL = '\"gridcode\" = 1'\n",
    "    # select only 1 values\n",
    "    arcpy.analysis.Select(feature, feature_name, SQL)\n",
    "\n",
    "print \"Selection of boulder values completed...\"\n",
    "print \"Files saved as *_1.shp\""
   ]
  },
  {
   "cell_type": "code",
   "execution_count": 6,
   "metadata": {},
   "outputs": [
    {
     "name": "stdout",
     "output_type": "stream",
     "text": [
      "Bounding geometry completed...\n",
      "Files saved as *_bg.shp\n"
     ]
    }
   ],
   "source": [
    "### calculate the minimum bounding geometry ###\n",
    "#generate another list of polygons\n",
    "arcpy.env.workspace = workspace\n",
    "one_list = arcpy.ListFeatureClasses(\"*_1.shp\")\n",
    "\n",
    "# generate minimum bounding geometry\n",
    "for polygon in one_list:\n",
    "    # make a better name\n",
    "    desc = arcpy.Describe(polygon)\n",
    "    poly_name = desc.baseName[:-4] + \"_bd.shp\"\n",
    "    # add an area field\n",
    "    arcpy.management.AddField(polygon, \"Area_orig\", \"FLOAT\")\n",
    "    # calculate area\n",
    "    arcpy.management.CalculateField(polygon, \"Area_orig\", \"!shape.area@squaremeters!\", \"PYTHON_9.3\")\n",
    "    # generate bounding geometry\n",
    "    arcpy.management.MinimumBoundingGeometry(polygon, poly_name, \"CONVEX_HULL\", \"\", \"\", \"MBG_FIELDS\")\n",
    "\n",
    "print \"Bounding geometry completed...\"\n",
    "print \"Files saved as *_bg.shp\""
   ]
  },
  {
   "cell_type": "code",
   "execution_count": 21,
   "metadata": {},
   "outputs": [
    {
     "name": "stdout",
     "output_type": "stream",
     "text": [
      "[u'Jez_dark_160_1_bd2.shp', u'Jez_dark_160_2_bd2.shp', u'Jez_dark_160_3_bd2.shp', u'Jez_dark_160_4_bd2.shp', u'Jez_dark_160_5_bd2.shp', u'Jez_dark_160_6_bd2.shp', u'Jez_dark_160_7_bd2.shp', u'Jez_dark_160_8_bd2.shp', u'Jez_dark_160_9_bd2.shp', u'Jez_dark_80_1_bd2.shp', u'Jez_dark_80_2_bd2.shp', u'Jez_dark_80_3_bd2.shp', u'Jez_dark_80_4_bd2.shp', u'Jez_dark_80_5_bd2.shp', u'Jez_dark_80_6_bd2.shp', u'Jez_dark_80_7_bd2.shp', u'Jez_dark_80_8_bd2.shp', u'Jez_dark_80_9_bd2.shp', u'Jez_light_160_1_bd2.shp', u'Jez_light_160_2_bd2.shp', u'Jez_light_160_3_bd2.shp', u'Jez_light_160_4_bd2.shp', u'Jez_light_160_5_bd2.shp', u'Jez_light_160_6_bd2.shp', u'Jez_light_160_7_bd2.shp', u'Jez_light_160_8_bd2.shp', u'Jez_light_160_9_bd2.shp', u'Jez_light_80_1_bd2.shp', u'Jez_light_80_2_bd2.shp', u'Jez_light_80_3_bd2.shp', u'Jez_light_80_4_bd2.shp', u'Jez_light_80_5_bd2.shp', u'Jez_light_80_6_bd2.shp', u'Jez_light_80_7_bd2.shp', u'Jez_light_80_8_bd2.shp', u'Jez_light_80_9_bd2.shp', u'Jez_medium_160_1_bd2.shp', u'Jez_medium_160_2_bd2.shp', u'Jez_medium_160_3_bd2.shp', u'Jez_medium_160_4_bd2.shp', u'Jez_medium_160_5_bd2.shp', u'Jez_medium_160_6_bd2.shp', u'Jez_medium_160_7_bd2.shp', u'Jez_medium_160_8_bd2.shp', u'Jez_medium_160_9_bd2.shp', u'Jez_medium_80_1_bd2.shp', u'Jez_medium_80_2_bd2.shp', u'Jez_medium_80_3_bd2.shp', u'Jez_medium_80_4_bd2.shp', u'Jez_medium_80_5_bd2.shp', u'Jez_medium_80_6_bd2.shp', u'Jez_medium_80_7_bd2.shp', u'Jez_medium_80_8_bd2.shp', u'Jez_medium_80_9_bd2.shp', u'Jez_medium_80_9_s_bd2.shp', u'Jez_medium_80__bd2.shp']\n",
      "Jez_dark_160_1_bd2.shp\n",
      "Jez_dark_160_2_bd2.shp\n",
      "Jez_dark_160_3_bd2.shp\n",
      "Jez_dark_160_4_bd2.shp\n",
      "Jez_dark_160_5_bd2.shp\n",
      "Jez_dark_160_6_bd2.shp\n",
      "Jez_dark_160_7_bd2.shp\n",
      "Jez_dark_160_8_bd2.shp\n",
      "Jez_dark_160_9_bd2.shp\n",
      "Jez_dark_80_1_bd2.shp\n",
      "Jez_dark_80_2_bd2.shp\n",
      "Jez_dark_80_3_bd2.shp\n",
      "Jez_dark_80_4_bd2.shp\n",
      "Jez_dark_80_5_bd2.shp\n",
      "Jez_dark_80_6_bd2.shp\n",
      "Jez_dark_80_7_bd2.shp\n",
      "Jez_dark_80_8_bd2.shp\n",
      "Jez_dark_80_9_bd2.shp\n",
      "Jez_light_160_1_bd2.shp\n",
      "Jez_light_160_2_bd2.shp\n",
      "Jez_light_160_3_bd2.shp\n",
      "Jez_light_160_4_bd2.shp\n",
      "Jez_light_160_5_bd2.shp\n",
      "Jez_light_160_6_bd2.shp\n",
      "Jez_light_160_7_bd2.shp\n",
      "Jez_light_160_8_bd2.shp\n",
      "Jez_light_160_9_bd2.shp\n",
      "Jez_light_80_1_bd2.shp\n",
      "Jez_light_80_2_bd2.shp\n",
      "Jez_light_80_3_bd2.shp\n",
      "Jez_light_80_4_bd2.shp\n",
      "Jez_light_80_5_bd2.shp\n",
      "Jez_light_80_6_bd2.shp\n",
      "Jez_light_80_7_bd2.shp\n",
      "Jez_light_80_8_bd2.shp\n",
      "Jez_light_80_9_bd2.shp\n",
      "Jez_medium_160_1_bd2.shp\n",
      "Jez_medium_160_2_bd2.shp\n",
      "Jez_medium_160_3_bd2.shp\n",
      "Jez_medium_160_4_bd2.shp\n",
      "Jez_medium_160_5_bd2.shp\n",
      "Jez_medium_160_6_bd2.shp\n",
      "Jez_medium_160_7_bd2.shp\n",
      "Jez_medium_160_8_bd2.shp\n",
      "Jez_medium_160_9_bd2.shp\n",
      "Jez_medium_80_1_bd2.shp\n",
      "Jez_medium_80_2_bd2.shp\n",
      "Jez_medium_80_3_bd2.shp\n",
      "Jez_medium_80_4_bd2.shp\n",
      "Jez_medium_80_5_bd2.shp\n",
      "Jez_medium_80_6_bd2.shp\n",
      "Jez_medium_80_7_bd2.shp\n",
      "Jez_medium_80_8_bd2.shp\n",
      "Jez_medium_80_9_bd2.shp\n",
      "Jez_medium_80_9_s_bd2.shp\n",
      "Jez_medium_80__bd2.shp\n",
      "Area added...\n"
     ]
    }
   ],
   "source": [
    "### add minimum bounding geometry area ###\n",
    "# generate a list of MBG polygons\n",
    "arcpy.env.workspace = workspace\n",
    "bound_list2 = arcpy.ListFeatureClasses(\"*_bd.shp\")\n",
    "\n",
    "# caluculate the MBG area\n",
    "for bound2 in bound_list2:\n",
    "    print bound2\n",
    "    # add an area field\n",
    "    #arcpy.management.AddField(bound2, \"Area_MBG\", \"FLOAT\")\n",
    "    # calculate area\n",
    "    arcpy.management.CalculateField(bound2, \"Area_MBG\", \"!shape.area@squaremeters!\", \"PYTHON_9.3\")\n",
    "\n",
    "print \"Area added...\""
   ]
  },
  {
   "cell_type": "code",
   "execution_count": 5,
   "metadata": {},
   "outputs": [
    {
     "name": "stdout",
     "output_type": "stream",
     "text": [
      "Jez_dark_160_1_bd2.shp\n",
      "Jez_dark_160_2_bd2.shp\n",
      "Jez_dark_160_3_bd2.shp\n",
      "Jez_dark_160_4_bd2.shp\n",
      "Jez_dark_160_5_bd2.shp\n",
      "Jez_dark_160_6_bd2.shp\n",
      "Jez_dark_160_7_bd2.shp\n",
      "Jez_dark_160_8_bd2.shp\n",
      "Jez_dark_160_9_bd2.shp\n",
      "Jez_dark_80_1_bd2.shp\n",
      "Jez_dark_80_2_bd2.shp\n",
      "Jez_dark_80_3_bd2.shp\n",
      "Jez_dark_80_4_bd2.shp\n",
      "Jez_dark_80_5_bd2.shp\n",
      "Jez_dark_80_6_bd2.shp\n",
      "Jez_dark_80_7_bd2.shp\n",
      "Jez_dark_80_8_bd2.shp\n",
      "Jez_dark_80_9_bd2.shp\n",
      "Jez_light_160_1_bd2.shp\n",
      "Jez_light_160_2_bd2.shp\n",
      "Jez_light_160_3_bd2.shp\n",
      "Jez_light_160_4_bd2.shp\n",
      "Jez_light_160_5_bd2.shp\n",
      "Jez_light_160_6_bd2.shp\n",
      "Jez_light_160_7_bd2.shp\n",
      "Jez_light_160_8_bd2.shp\n",
      "Jez_light_160_9_bd2.shp\n",
      "Jez_light_80_1_bd2.shp\n",
      "Jez_light_80_2_bd2.shp\n",
      "Jez_light_80_3_bd2.shp\n",
      "Jez_light_80_4_bd2.shp\n",
      "Jez_light_80_5_bd2.shp\n",
      "Jez_light_80_6_bd2.shp\n",
      "Jez_light_80_7_bd2.shp\n",
      "Jez_light_80_8_bd2.shp\n",
      "Jez_light_80_9_bd2.shp\n",
      "Jez_medium_160_1_bd2.shp\n",
      "Jez_medium_160_2_bd2.shp\n",
      "Jez_medium_160_3_bd2.shp\n",
      "Jez_medium_160_4_bd2.shp\n",
      "Jez_medium_160_5_bd2.shp\n",
      "Jez_medium_160_6_bd2.shp\n",
      "Jez_medium_160_7_bd2.shp\n",
      "Jez_medium_160_8_bd2.shp\n",
      "Jez_medium_160_9_bd2.shp\n",
      "Jez_medium_80_1_bd2.shp\n",
      "Jez_medium_80_2_bd2.shp\n",
      "Jez_medium_80_3_bd2.shp\n",
      "Jez_medium_80_4_bd2.shp\n",
      "Jez_medium_80_5_bd2.shp\n",
      "Jez_medium_80_6_bd2.shp\n",
      "Jez_medium_80_7_bd2.shp\n",
      "Jez_medium_80_8_bd2.shp\n",
      "Jez_medium_80_9_bd2.shp\n",
      "Jez_medium_80_9_s_bd2.shp\n",
      "Jez_medium_80__bd2.shp\n",
      "Near completed...\n"
     ]
    }
   ],
   "source": [
    "### calculate boulder-scarp metrics ### \n",
    "# generate a list of MBG polygons\n",
    "arcpy.env.workspace = workspace\n",
    "bound_list2 = arcpy.ListFeatureClasses(\"*_bd.shp\")\n",
    "\n",
    "# run the near tool\n",
    "for bound in bound_list2:\n",
    "    # calculate distance to scarp\n",
    "    arcpy.Near_analysis(bound, scarp_file, \"\", \"NO_LOCATION\", \"ANGLE\")\n",
    "    \n",
    "print \"Near completed...\""
   ]
  },
  {
   "cell_type": "code",
   "execution_count": 10,
   "metadata": {},
   "outputs": [
    {
     "name": "stdout",
     "output_type": "stream",
     "text": [
      "Files organized...\n"
     ]
    }
   ],
   "source": [
    "### organize the final files ###\n",
    "# copy the files to the final folder\n",
    "arcpy.env.workspace = workspace\n",
    "final_list = arcpy.ListFeatureClasses(\"*_fin*.shp\")\n",
    "\n",
    "for final in final_list:\n",
    "    final_file = workspace + \"/\" + final\n",
    "    output_file = final_path + \"/\" + final\n",
    "    arcpy.management.CopyFeatures(final_file, output_file)\n",
    "    \n",
    "print \"Files organized...\""
   ]
  },
  {
   "cell_type": "code",
   "execution_count": 4,
   "metadata": {},
   "outputs": [],
   "source": [
    "### convert polygons to points ###\n",
    "# generate a list of the final files\n",
    "arcpy.env.workspace = final_path\n",
    "feat_list = arcpy.ListFeatureClasses()\n",
    "\n",
    "# convert all the features\n",
    "for feature in feat_list:\n",
    "    #make a better name \n",
    "    desc = arcpy.Describe(feature)\n",
    "    point_name = desc.basename + \"pnt.shp\"\n",
    "    arcpy.management.FeatureToPoint(feature, point_name)"
   ]
  },
  {
   "cell_type": "code",
   "execution_count": 14,
   "metadata": {},
   "outputs": [
    {
     "name": "stdout",
     "output_type": "stream",
     "text": [
      "C:\\Mars\\Boulders\\analysis_files\\\\Jez_dark_160_1\n",
      "C:\\Mars\\Boulders\\analysis_files\\\\Jez_dark_160_2\n",
      "C:\\Mars\\Boulders\\analysis_files\\\\Jez_dark_160_3\n",
      "C:\\Mars\\Boulders\\analysis_files\\\\Jez_dark_160_4\n",
      "C:\\Mars\\Boulders\\analysis_files\\\\Jez_dark_160_5\n",
      "C:\\Mars\\Boulders\\analysis_files\\\\Jez_dark_160_6\n",
      "C:\\Mars\\Boulders\\analysis_files\\\\Jez_dark_160_7\n",
      "C:\\Mars\\Boulders\\analysis_files\\\\Jez_dark_160_8\n",
      "C:\\Mars\\Boulders\\analysis_files\\\\Jez_dark_160_9\n",
      "C:\\Mars\\Boulders\\analysis_files\\\\Jez_dark_80_1\n",
      "C:\\Mars\\Boulders\\analysis_files\\\\Jez_dark_80_2\n",
      "C:\\Mars\\Boulders\\analysis_files\\\\Jez_dark_80_3\n",
      "C:\\Mars\\Boulders\\analysis_files\\\\Jez_dark_80_4\n",
      "C:\\Mars\\Boulders\\analysis_files\\\\Jez_dark_80_5\n",
      "C:\\Mars\\Boulders\\analysis_files\\\\Jez_dark_80_6\n",
      "C:\\Mars\\Boulders\\analysis_files\\\\Jez_dark_80_7\n",
      "C:\\Mars\\Boulders\\analysis_files\\\\Jez_dark_80_8\n",
      "C:\\Mars\\Boulders\\analysis_files\\\\Jez_dark_80_9\n",
      "C:\\Mars\\Boulders\\analysis_files\\\\Jez_light_160_1\n",
      "C:\\Mars\\Boulders\\analysis_files\\\\Jez_light_160_2\n",
      "C:\\Mars\\Boulders\\analysis_files\\\\Jez_light_160_3\n",
      "C:\\Mars\\Boulders\\analysis_files\\\\Jez_light_160_4\n",
      "C:\\Mars\\Boulders\\analysis_files\\\\Jez_light_160_5\n",
      "C:\\Mars\\Boulders\\analysis_files\\\\Jez_light_160_6\n",
      "C:\\Mars\\Boulders\\analysis_files\\\\Jez_light_160_7\n",
      "C:\\Mars\\Boulders\\analysis_files\\\\Jez_light_160_8\n",
      "C:\\Mars\\Boulders\\analysis_files\\\\Jez_light_160_9\n",
      "C:\\Mars\\Boulders\\analysis_files\\\\Jez_light_80_1\n",
      "C:\\Mars\\Boulders\\analysis_files\\\\Jez_light_80_2\n",
      "C:\\Mars\\Boulders\\analysis_files\\\\Jez_light_80_3\n",
      "C:\\Mars\\Boulders\\analysis_files\\\\Jez_light_80_4\n",
      "C:\\Mars\\Boulders\\analysis_files\\\\Jez_light_80_5\n",
      "C:\\Mars\\Boulders\\analysis_files\\\\Jez_light_80_6\n",
      "C:\\Mars\\Boulders\\analysis_files\\\\Jez_light_80_7\n",
      "C:\\Mars\\Boulders\\analysis_files\\\\Jez_light_80_8\n",
      "C:\\Mars\\Boulders\\analysis_files\\\\Jez_light_80_9\n",
      "C:\\Mars\\Boulders\\analysis_files\\\\Jez_medium_160_1\n",
      "C:\\Mars\\Boulders\\analysis_files\\\\Jez_medium_160_2\n",
      "C:\\Mars\\Boulders\\analysis_files\\\\Jez_medium_160_3\n",
      "C:\\Mars\\Boulders\\analysis_files\\\\Jez_medium_160_4\n",
      "C:\\Mars\\Boulders\\analysis_files\\\\Jez_medium_160_5\n",
      "C:\\Mars\\Boulders\\analysis_files\\\\Jez_medium_160_6\n",
      "C:\\Mars\\Boulders\\analysis_files\\\\Jez_medium_160_7\n",
      "C:\\Mars\\Boulders\\analysis_files\\\\Jez_medium_160_8\n",
      "C:\\Mars\\Boulders\\analysis_files\\\\Jez_medium_160_9\n",
      "C:\\Mars\\Boulders\\analysis_files\\\\Jez_medium_80_1\n",
      "C:\\Mars\\Boulders\\analysis_files\\\\Jez_medium_80_2\n",
      "C:\\Mars\\Boulders\\analysis_files\\\\Jez_medium_80_3\n",
      "C:\\Mars\\Boulders\\analysis_files\\\\Jez_medium_80_4\n",
      "C:\\Mars\\Boulders\\analysis_files\\\\Jez_medium_80_5\n",
      "C:\\Mars\\Boulders\\analysis_files\\\\Jez_medium_80_6\n",
      "C:\\Mars\\Boulders\\analysis_files\\\\Jez_medium_80_7\n",
      "C:\\Mars\\Boulders\\analysis_files\\\\Jez_medium_80_8\n",
      "C:\\Mars\\Boulders\\analysis_files\\\\Jez_medium_80_9\n",
      "C:\\Mars\\Boulders\\analysis_files\\\\Jez_medium_80_9_s\n",
      "C:\\Mars\\Boulders\\analysis_files\\\\Jez_medium_80_\n"
     ]
    },
    {
     "data": {
      "text/plain": [
       "u'CheckedIn'"
      ]
     },
     "execution_count": 14,
     "metadata": {},
     "output_type": "execute_result"
    }
   ],
   "source": [
    "### generate analysis files ###\n",
    "# add elevation data\n",
    "arcpy.CheckOutExtension(\"Spatial\")\n",
    "arcpy.env.workspace = r\"C:\\Mars\\Boulders\\final\"\n",
    "DEM_file = r\"C:\\Mars\\Boulders\\source\\JezDEMRef.tif\"\n",
    "\n",
    "# select final point files\n",
    "final_files = arcpy.ListFeatureClasses(\"*finAllpnt*\")\n",
    "for point_files in final_files:\n",
    "    out_class = r\"C:\\Mars\\Boulders\\analysis_files\\\\\" + arcpy.Describe(point_files).basename[:-14]\n",
    "    arcpy.sa.ExtractValuesToPoints(point_files, DEM_file, out_class)\n",
    "    print out_class\n",
    "    \n",
    "arcpy.CheckInExtension(\"Spatial\")"
   ]
  },
  {
   "cell_type": "code",
   "execution_count": null,
   "metadata": {
    "scrolled": true
   },
   "outputs": [],
   "source": [
    "# change field name of elevation data\n",
    "arcpy.env.workspace = r\"C:\\Mars\\Boulders\\analysis_files\\Analysis.gdb\\\\\"\n",
    "files = arcpy.ListFeatureClasses()\n",
    "field1 = \"RASTERVALU\"\n",
    "name1 = \"Elev_m\"\n",
    "alias1 = \"Elevation_m\"\n",
    "\n",
    "for points in files:\n",
    "    out_table = arcpy.Describe(points).basename + \"_table\"\n",
    "    table_view = arcpy.management.MakeTableView(points, out_table)\n",
    "    arcpy.management.AlterField(table_view, field1, name1, alias1)"
   ]
  },
  {
   "cell_type": "code",
   "execution_count": 20,
   "metadata": {},
   "outputs": [
    {
     "name": "stdout",
     "output_type": "stream",
     "text": [
      "Jez_medium_80_9\n",
      "Jez_medium_80_8\n",
      "Jez_medium_80_7\n",
      "Jez_medium_80_6\n",
      "Jez_medium_80_5\n",
      "Jez_medium_80_4\n",
      "Jez_medium_80_3\n",
      "Jez_medium_80_2\n",
      "Jez_medium_80_1\n",
      "Jez_medium_160_9\n",
      "Jez_medium_160_8\n",
      "Jez_medium_160_7\n",
      "Jez_medium_160_6\n",
      "Jez_medium_160_5\n",
      "Jez_medium_160_4\n",
      "Jez_medium_160_3\n",
      "Jez_medium_160_2\n",
      "Jez_medium_160_1\n",
      "Jez_light_80_9\n",
      "Jez_light_80_8\n",
      "Jez_light_80_7\n",
      "Jez_light_80_6\n",
      "Jez_light_80_5\n",
      "Jez_light_80_4\n",
      "Jez_light_80_3\n",
      "Jez_light_80_2\n",
      "Jez_light_80_1\n",
      "Jez_light_160_9\n",
      "Jez_light_160_8\n",
      "Jez_light_160_7\n",
      "Jez_light_160_6\n",
      "Jez_light_160_5\n",
      "Jez_light_160_4\n",
      "Jez_light_160_3\n",
      "Jez_light_160_2\n",
      "Jez_light_160_1\n",
      "Jez_dark_80_9\n",
      "Jez_dark_80_8\n",
      "Jez_dark_80_7\n",
      "Jez_dark_80_6\n",
      "Jez_dark_80_5\n",
      "Jez_dark_80_4\n",
      "Jez_dark_80_3\n",
      "Jez_dark_80_2\n",
      "Jez_dark_80_1\n",
      "Jez_dark_160_9\n",
      "Jez_dark_160_8\n",
      "Jez_dark_160_7\n",
      "Jez_dark_160_6\n",
      "Jez_dark_160_5\n",
      "Jez_dark_160_4\n",
      "Jez_dark_160_3\n",
      "Jez_dark_160_2\n",
      "Jez_dark_160_1\n"
     ]
    }
   ],
   "source": [
    "### add lat long ###\n",
    "# generate a list of the final files\n",
    "analysis_path = r\"C:\\Mars\\Boulders\\analysis_files\\Analysis.gdb\\\\\"\n",
    "arcpy.env.workspace = analysis_path\n",
    "file_list = arcpy.ListFeatureClasses()\n",
    "\n",
    "for points in file_list:\n",
    "    arcpy.management.AddXY(points)\n",
    "    print arcpy.Describe(points).basename"
   ]
  },
  {
   "cell_type": "code",
   "execution_count": null,
   "metadata": {},
   "outputs": [],
   "source": [
    "### convert the files to spreadsheets ###\n",
    "# generate a list of the final files\n",
    "analysis_path = r\"C:\\Mars\\Boulders\\analysis_files\\Analysis.gdb\\\\\"\n",
    "arcpy.env.workspace = analysis_path\n",
    "file_list = arcpy.ListFeatureClasses()\n",
    "\n",
    "# convert the tables to CSVs\n",
    "for final_file in file_list:\n",
    "    # get a better name\n",
    "    desc = arcpy.Describe(final_file)\n",
    "    # set output \n",
    "    table_out = desc.baseName + \".csv\"\n",
    "    #make a table view\n",
    "    table_view = desc.baseName + \"_table\"\n",
    "    arcpy.management.MakeTableView(final_file, table_view)\n",
    "    # export the table\n",
    "    arcpy.conversion.TableToTable(table_view, r\"C:\\Mars\\Boulders\\analysis_files\\\\\", table_out)\n",
    "    \n",
    "print \"Final tables generated...\""
   ]
  }
 ],
 "metadata": {
  "kernelspec": {
   "display_name": "Python 2",
   "language": "python",
   "name": "python2"
  },
  "language_info": {
   "codemirror_mode": {
    "name": "ipython",
    "version": 2
   },
   "file_extension": ".py",
   "mimetype": "text/x-python",
   "name": "python",
   "nbconvert_exporter": "python",
   "pygments_lexer": "ipython2",
   "version": "2.7.15"
  }
 },
 "nbformat": 4,
 "nbformat_minor": 2
}
