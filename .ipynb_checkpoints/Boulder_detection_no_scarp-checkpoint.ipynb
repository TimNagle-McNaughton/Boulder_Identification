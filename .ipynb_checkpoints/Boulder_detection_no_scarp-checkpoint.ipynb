{
 "cells": [
  {
   "cell_type": "markdown",
   "metadata": {},
   "source": [
    "## Boulder detection methodology\n",
    "\n",
    "- Author: Tim Nagle-McNaughton\n",
    "\n",
    "- Contact: timnaglemcnaughton@unm.edu"
   ]
  },
  {
   "cell_type": "markdown",
   "metadata": {},
   "source": [
    "## 1. Data production"
   ]
  },
  {
   "cell_type": "markdown",
   "metadata": {},
   "source": [
    "### 1.1 User input\n",
    "\n",
    "### These values should be edited by the user:"
   ]
  },
  {
   "cell_type": "code",
   "execution_count": 9,
   "metadata": {},
   "outputs": [],
   "source": [
    "# any default workspace. Can be a folder or a geodatabase\n",
    "workspace = r\"C:/Path/Boulders\"\n",
    "# the raster you want to process\n",
    "rast_to_process = r\"C:/Path/Raster.JP2\"      \n",
    "# where your data will be saved\n",
    "output_folder = r\"C:/Mars/Boulders\"            \n",
    "# the base name for all the output\n",
    "output_name = \"Example\"\n",
    "# the minimum pixel iteration value (inclusive)\n",
    "rast_min = 80\n",
    "# the maximum pixel threshold value (not inclusive)\n",
    "rast_max = 190\n",
    "# the inverval between threshold values (e.g. min = 0, max = 100, step = 10 -> 10 files: 0, 10, 20, etc.)\n",
    "rast_step = 10\n",
    "# the maximum value for the 'dark' brightness interval \n",
    "dark_interval_max = 300\n",
    "# the maxmimum value for the 'medium interval'\n",
    "medium_interval_max = 500"
   ]
  },
  {
   "cell_type": "markdown",
   "metadata": {},
   "source": [
    "### 1.2 Import python modules and make subfolders for output"
   ]
  },
  {
   "cell_type": "code",
   "execution_count": null,
   "metadata": {},
   "outputs": [],
   "source": [
    "### settings and setup ###\n",
    "# imports\n",
    "import arcpy\n",
    "import os\n",
    "import shutil\n",
    "from arcpy.sa import *\n",
    "from arcpy import env\n",
    "import glob\n",
    "\n",
    "# ArcGIS setup\n",
    "arcpy.env.workspace = workspace\n",
    "arcpy.env.overwriteOutput = True\n",
    "out_path = os.path.join(output_folder, output_name)\n",
    "\n",
    "# make a directory for the junk files\n",
    "if not os.path.exists(os.path.join(output_folder, \"junk_files\\\\\")):\n",
    "    os.makedirs(os.path.join(output_folder, \"junk_files\\\\\"))  \n",
    "# set junk output strings\n",
    "junk_path = os.path.join(output_folder, \"junk_files\\\\\")\n",
    "junk_name = os.path.join(junk_path, output_name)\n",
    "\n",
    "# make a directory for the selected threshold files\n",
    "if not os.path.exists(os.path.join(output_folder, \"threshold\\\\\")):\n",
    "    os.makedirs(os.path.join(output_folder, \"threshold\\\\\"))\n",
    "# set the threshold strings\n",
    "thresh_path = os.path.join(output_folder, \"threshold\\\\\")\n",
    "\n",
    "# make a directory for the final files\n",
    "if not os.path.exists(os.path.join(output_folder, \"final\\\\\")):\n",
    "    os.makedirs(os.path.join(output_folder, \"final\\\\\"))\n",
    "# set the final strings\n",
    "final_path = os.path.join(output_folder, \"final/\")\n",
    "\n",
    "print \"Setup complete... \\n\""
   ]
  },
  {
   "cell_type": "markdown",
   "metadata": {},
   "source": [
    "### 1.3 Apply the average filter with a 20-pixel radius\n",
    "\n",
    "- Files are saved to ~ / junk / \\*\\_20\\_rad\\_average.tif"
   ]
  },
  {
   "cell_type": "code",
   "execution_count": null,
   "metadata": {},
   "outputs": [],
   "source": [
    "# apply mean filter\n",
    "neighborhood = NbrCircle(20)\n",
    "avg20_rast = arcpy.sa.FocalStatistics(rast_to_process, neighborhood, \"MEAN\",  \"\")\n",
    "\n",
    "# save the output to the junk folder\n",
    "avg20_out = junk_name +  \"_20_rad_average.tif\"\n",
    "avg20_rast.save(avg20_out)\n",
    "\n",
    "print \"20 pixel average complete...\\n\""
   ]
  },
  {
   "cell_type": "markdown",
   "metadata": {},
   "source": [
    "### 1.4 Make a mask to split the raster into the three (dark, medium, light) brightness intervals\n",
    "\n",
    "- Files are saved to ~ / junk / \\*\\_mask.tif"
   ]
  },
  {
   "cell_type": "code",
   "execution_count": null,
   "metadata": {},
   "outputs": [],
   "source": [
    "# generate the masks\n",
    "dark_mask = arcpy.Raster(avg20_out) < (dark_interval_max + 1)\n",
    "medium_mask = (arcpy.Raster(avg20_out) > dark_interval_max) & (arcpy.Raster(avg20_out) < (medium_interval_max + 1)\n",
    "light_mask = arcpy.Raster(avg20_out) > medium_interval_max\n",
    "\n",
    "#save the output to the intermediate folder\n",
    "dark_mask_out = junk_name + \"_dark_mask.tif\"\n",
    "medium_mask_out = junk_name + \"_medium_mask.tif\"\n",
    "light_mask_out = junk_name + \"_light_mask.tif\"\n",
    "\n",
    "dark_mask.save(dark_mask_out)\n",
    "medium_mask.save(medium_mask_out)\n",
    "light_mask.save(light_mask_out)\n",
    "\n",
    "print \"Dark, medium, and light masks generated...\\n\""
   ]
  },
  {
   "cell_type": "markdown",
   "metadata": {},
   "source": [
    "### 1.5 Split the raster into three brightness intervals\n",
    "\n",
    "- Files are saved to ~ / junk / \\*\\_zero.tif"
   ]
  },
  {
   "cell_type": "code",
   "execution_count": null,
   "metadata": {},
   "outputs": [],
   "source": [
    "# generate the brightness rasters\n",
    "dark = arcpy.Raster(dark_mask_out) * arcpy.Raster(rast_to_process)\n",
    "medium = arcpy.Raster(medium_mask_out) * arcpy.Raster(rast_to_process)\n",
    "light = arcpy.Raster(light_mask_out) * arcpy.Raster(rast_to_process)\n",
    "\n",
    "# save the output to the intermediate folder\n",
    "dark_out = junk_name + \"_dark_zero.tif\"\n",
    "medium_out = junk_name + \"_medium_zero.tif\"\n",
    "light_out = junk_name + \"_light_zero.tif\"\n",
    "dark.save(dark_out)\n",
    "medium.save(medium_out)\n",
    "light.save(light_out)\n",
    "\n",
    "print \"Dark, medium, and light rasters generated...\\n\""
   ]
  },
  {
   "cell_type": "markdown",
   "metadata": {},
   "source": [
    "### 1.6 Set 0 values to 'Null'\n",
    "\n",
    "- Files are saved to ~ / junk / \\*\\_null.tif"
   ]
  },
  {
   "cell_type": "code",
   "execution_count": null,
   "metadata": {},
   "outputs": [],
   "source": [
    "# generate the null values in the rasters\n",
    "dark_mask_null = SetNull(dark_out, dark_out, \"VALUE < 1\")\n",
    "medium_mask_null = SetNull(medium_out, medium_out, \"VALUE < 1\")\n",
    "light_mask_null = SetNull(light_out, light_out, \"VALUE < 1\")\n",
    "\n",
    "# save the output\n",
    "dark_mask_null_out = out_path + \"_dark_null.tif\"\n",
    "medium_mask_null_out = out_path + \"_dark_null.tif\"\n",
    "light_mask_null_out = out_path + \"_dark_null.tif\"\n",
    "dark_mask_null.save(dark_mask_null_out)\n",
    "medium_mask_null.save(medium_mask_null_out)\n",
    "light_mask_null.save(light_mask_null_out)\n",
    "\n",
    "print \"Final dark, medium, and light rasters generated...\\n\""
   ]
  },
  {
   "cell_type": "markdown",
   "metadata": {},
   "source": [
    "### 1.7 Apply the 2x2 range filter, generate threshold values\n",
    "\n",
    "- Range files are saved to ~ / junk / \\*\\_2x2\\_range.tif\n",
    " \n",
    "- Threshold files are saved to  ~ / threshold / threshold\\_value.tif"
   ]
  },
  {
   "cell_type": "code",
   "execution_count": null,
   "metadata": {},
   "outputs": [],
   "source": [
    "# apply a 2x2 range filter\n",
    "interval_list = [dark_mask_null_out, medium_mask_null_out, light_mask_null_out]\n",
    "for interval in interval_list:\n",
    "    neighborhood = NbrRectangle(2)\n",
    "    rast_range = arcpy.sa.FocalStatistics(interval, neighborhood, \"RANGE\",  \"\")\n",
    "    \n",
    "    # save the output\n",
    "    range_out = junk_path + str(interval)[:-10] + \"_2x2_range.tif\"\n",
    "    rast_range.save(range_out)\n",
    "\n",
    "    ### peform raster calculation ###\n",
    "    # iteratively select 'boulder' pixels above the threshold set above\n",
    "    for value in range(rast_min, rast_max, rast_step):\n",
    "        calc_above = arcpy.Raster(range_out) > value\n",
    "        \n",
    "        # save the output\n",
    "        calc_out = thresh_path + str(interval)[:-10] + \"_\"+ str(value) + \".tif\"\n",
    "        calc_above.save(calc_out)\n",
    "\n",
    "print \"Threshold pixel values for generated...\\n\"\n",
    "\n",
    "arcpy.CheckInExtension(\"Spatial\")"
   ]
  },
  {
   "cell_type": "markdown",
   "metadata": {},
   "source": [
    "## 2. Data conversion\n",
    "**At this point, the user should examine the interval rasters in ArcGIS to determine two values:**\n",
    "1. The pixel threshold at which there are no false-positive boulder pixels (no dune crests have boulder pixels). This value will be larger than the second value.\n",
    "2. The pixel threshold at which there are no false-negative boulder pixels (every boulder has a pixel). This value will be smaller than the first."
   ]
  },
  {
   "cell_type": "markdown",
   "metadata": {},
   "source": [
    "### 2.1 User input\n",
    "\n",
    "### These values should be edited by the user:"
   ]
  },
  {
   "cell_type": "code",
   "execution_count": null,
   "metadata": {},
   "outputs": [],
   "source": [
    "# get variables \n",
    "dark_upper_value = \n",
    "dark_lower_value = \n",
    "\n",
    "medium_upper_value = \n",
    "medium_lower_value = \n",
    "\n",
    "light_upper_value = \n",
    "light_lower_value = "
   ]
  },
  {
   "cell_type": "markdown",
   "metadata": {},
   "source": [
    "### 2.2 Convert the rasters to simplified polygons\n",
    " \n",
    "- Files are saved to ~ / output / \\*\\_s.tif"
   ]
  },
  {
   "cell_type": "code",
   "execution_count": null,
   "metadata": {},
   "outputs": [],
   "source": [
    "# generate list of dark rasters\n",
    "arcpy.env.workspace = workspace\n",
    "dark_raster_list = arcpy.ListRasters(\"*dark*.tif\")\n",
    "\n",
    "# convert to polygons\n",
    "for dark in dark_raster_list:\n",
    "    # make a better name\n",
    "    desc = arcpy.Describe(dark)\n",
    "    raster_name = out_path + desc.baseName[:-1] + \"_s.shp\"\n",
    "    # convert\n",
    "    arcpy.conversion.RasterToPolygon(dark, raster_name, \"SIMPLIFY\")\n",
    "    print raster_name + \" has been processed...\"\n",
    "    \n",
    "# generate list of medium rasters\n",
    "arcpy.env.workspace = clip_folder\n",
    "med_raster_list = arcpy.ListRasters(\"*medium*.tif\")\n",
    "\n",
    "# convert to polygons\n",
    "for med in med_raster_list:\n",
    "    # make a better name\n",
    "    desc = arcpy.Describe(med)\n",
    "    raster_name = out_path + desc.baseName[:-1] + \"_s.shp\"\n",
    "    # convert\n",
    "    arcpy.conversion.RasterToPolygon(med, raster_name, \"SIMPLIFY\")\n",
    "    print raster_name + \" has been processed...\"\n",
    "    \n",
    "# generate list of light rasters\n",
    "arcpy.env.workspace = clip_folder\n",
    "light_raster_list = arcpy.ListRasters(\"*light*c.tif\")\n",
    "\n",
    "# convert to polygons\n",
    "for light in light_raster_list:\n",
    "    # make a better name\n",
    "    desc = arcpy.Describe(light)\n",
    "    raster_name = out_path + desc.baseName[:-1] + \"_s.shp\"\n",
    "    # convert\n",
    "    arcpy.conversion.RasterToPolygon(light, raster_name, \"SIMPLIFY\")\n",
    "    print raster_name + \" has been processed...\""
   ]
  },
  {
   "cell_type": "markdown",
   "metadata": {},
   "source": [
    "### 2.3 Select only the polygons that represent boulders (i.e. not the spaces inbetween)\n",
    " \n",
    "- Files are saved to ~ / output / \\*\\_1.tif"
   ]
  },
  {
   "cell_type": "code",
   "execution_count": null,
   "metadata": {},
   "outputs": [],
   "source": [
    "# generate list of polygons\n",
    "arcpy.env.workspace = workspace\n",
    "process_list = arcpy.ListFeatureClasses(\"*_s.shp\")\n",
    "\n",
    "# select only 1 values\n",
    "for feature in process_list:\n",
    "    # make a better name\n",
    "    desc = arcpy.Describe(feature)\n",
    "    feature_name = out_path + desc.baseName + \"_1.shp\"\n",
    "    # SQL query\n",
    "    SQL = '\"gridcode\" = 1'\n",
    "    # select only 1 values\n",
    "    arcpy.analysis.Select(feature, feature_name, SQL)\n",
    "\n",
    "print \"Selection of boulder values completed...\"\n",
    "print \"Files saved as *_1.shp\""
   ]
  },
  {
   "cell_type": "markdown",
   "metadata": {},
   "source": [
    "### 2.4 Generate the minimum bounding geometry\n",
    "\n",
    "- Files are saved to ~ / final / \\*\\_bd.tif"
   ]
  },
  {
   "cell_type": "code",
   "execution_count": null,
   "metadata": {},
   "outputs": [],
   "source": [
    "#generate another list of polygons\n",
    "arcpy.env.workspace = workspace\n",
    "one_list = arcpy.ListFeatureClasses(\"*_1.shp\")\n",
    "\n",
    "# generate minimum bounding geometry\n",
    "for polygon in one_list:\n",
    "    # make a better name\n",
    "    desc = arcpy.Describe(polygon)\n",
    "    poly_name = final_path + desc.baseName[:-4] + \"_bd.shp\"\n",
    "    # add an area field\n",
    "    arcpy.management.AddField(polygon, \"Area_orig\", \"FLOAT\")\n",
    "    # calculate area\n",
    "    arcpy.management.CalculateField(polygon, \"Area_orig\", \"!shape.area@squaremeters!\", \"PYTHON_9.3\")\n",
    "    # generate bounding geometry\n",
    "    arcpy.management.MinimumBoundingGeometry(polygon, poly_name, \"CONVEX_HULL\", \"\", \"\", \"MBG_FIELDS\")\n",
    "\n",
    "print \"Bounding geometry completed...\"\n",
    "print \"Files saved as *_bg.shp\""
   ]
  },
  {
   "cell_type": "markdown",
   "metadata": {},
   "source": [
    "### 2.5 Add minimum bounding area values"
   ]
  },
  {
   "cell_type": "code",
   "execution_count": null,
   "metadata": {},
   "outputs": [],
   "source": [
    "# generate a list of MBG polygons\n",
    "arcpy.env.workspace = final_path\n",
    "bound_list2 = arcpy.ListFeatureClasses(\"*_bd.shp\")\n",
    "\n",
    "# caluculate the MBG area\n",
    "for bound2 in bound_list2:\n",
    "    # add an area field\n",
    "    arcpy.management.AddField(bound2, \"Area_MBG\", \"FLOAT\")\n",
    "    # calculate area\n",
    "    arcpy.management.CalculateField(bound2, \"Area_MBG\", \"!shape.area@squaremeters!\", \"PYTHON_9.3\")\n",
    "\n",
    "print \"Area added...\""
   ]
  },
  {
   "cell_type": "markdown",
   "metadata": {},
   "source": [
    "### 2.6 Convert polygons to points (Optional)\n",
    "\n",
    "- Files are saved to ~ / final / \\*\\_pnt.tif"
   ]
  },
  {
   "cell_type": "code",
   "execution_count": null,
   "metadata": {},
   "outputs": [],
   "source": [
    "# generate a list of the final files\n",
    "arcpy.env.workspace = final_path\n",
    "feat_list = arcpy.ListFeatureClasses()\n",
    "\n",
    "# convert all the features\n",
    "for feature in feat_list:\n",
    "    #make a better name \n",
    "    desc = arcpy.Describe(feature)\n",
    "    point_name = desc.basename + \"_pnt.shp\"\n",
    "    arcpy.management.FeatureToPoint(feature, point_name)"
   ]
  },
  {
   "cell_type": "markdown",
   "metadata": {},
   "source": [
    "### 2.7 Add the X and Y coordinates to the points (Optional)"
   ]
  },
  {
   "cell_type": "code",
   "execution_count": null,
   "metadata": {},
   "outputs": [],
   "source": [
    "### add lat long ###\n",
    "# generate a list of the final files\n",
    "arcpy.env.workspace = final_path\n",
    "file_list = arcpy.ListFeatureClasses(\"*_pnt.shp\")\n",
    "\n",
    "# add XY points\n",
    "for points in file_list:\n",
    "    arcpy.management.AddXY(points)\n",
    "    print arcpy.Describe(points).basename"
   ]
  },
  {
   "cell_type": "markdown",
   "metadata": {},
   "source": [
    "### 2.8 Convert all the files to spreadsheets (Optional)\n",
    "\n",
    "- Files are saved to ~ / final /"
   ]
  },
  {
   "cell_type": "code",
   "execution_count": null,
   "metadata": {},
   "outputs": [],
   "source": [
    "# generate a list of the final files\n",
    "arcpy.env.workspace = final_path\n",
    "file_list = arcpy.ListFeatureClasses()\n",
    "\n",
    "# convert the tables to CSVs\n",
    "for final_file in file_list:\n",
    "    # get a better name\n",
    "    desc = arcpy.Describe(final_file)\n",
    "    # set output \n",
    "    table_out = desc.baseName + \".csv\"\n",
    "    #make a table view\n",
    "    table_view = desc.baseName + \"_table\"\n",
    "    arcpy.management.MakeTableView(final_file, table_view)\n",
    "    # export the table\n",
    "    arcpy.conversion.TableToTable(table_view, final_path, table_out)\n",
    "    \n",
    "print \"Final tables generated...\""
   ]
  }
 ],
 "metadata": {
  "kernelspec": {
   "display_name": "Python 3",
   "language": "python",
   "name": "python3"
  },
  "language_info": {
   "codemirror_mode": {
    "name": "ipython",
    "version": 3
   },
   "file_extension": ".py",
   "mimetype": "text/x-python",
   "name": "python",
   "nbconvert_exporter": "python",
   "pygments_lexer": "ipython3",
   "version": "3.6.8"
  }
 },
 "nbformat": 4,
 "nbformat_minor": 2
}
